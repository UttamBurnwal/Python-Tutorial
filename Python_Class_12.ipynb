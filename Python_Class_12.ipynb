{
  "nbformat": 4,
  "nbformat_minor": 0,
  "metadata": {
    "colab": {
      "name": "Python Class 12",
      "provenance": []
    },
    "kernelspec": {
      "name": "python3",
      "display_name": "Python 3"
    },
    "language_info": {
      "name": "python"
    }
  },
  "cells": [
    {
      "cell_type": "markdown",
      "metadata": {
        "id": "0zdhWUW2nRLJ"
      },
      "source": [
        "Supervised Machine Learning "
      ]
    },
    {
      "cell_type": "code",
      "metadata": {
        "id": "0GGcQG1gnTba"
      },
      "source": [
        "# Regression - Its a part of ML ecosystem which creates a linear relation within input and output.\n",
        "# And while prediction it regresses a continuous variable"
      ],
      "execution_count": 2,
      "outputs": []
    },
    {
      "cell_type": "code",
      "metadata": {
        "id": "IJ_SI6_ZnZoD"
      },
      "source": [
        "# House Price Prediction \n",
        "\n",
        "# -------Independant Variable -------------| Dependant Variables\n",
        "# --------Input Parameter------------------| ---Output---\n",
        "# No. of rooms / Area / Parking / Location | House Price "
      ],
      "execution_count": 4,
      "outputs": []
    },
    {
      "cell_type": "code",
      "metadata": {
        "id": "_lLSbl9Toacl"
      },
      "source": [
        "# What is Linear\n",
        "# Directly or Inversely Proportional\n",
        "# If there are two variables x, y; then a proportinalo change in x will bring about a proportional chnage in y"
      ],
      "execution_count": 8,
      "outputs": []
    },
    {
      "cell_type": "code",
      "metadata": {
        "id": "avZ5MRemortE"
      },
      "source": [
        "# Mathematical Representation\n",
        "\n",
        "# y = mx + c\n",
        "# y = output\n",
        "# x = input\n",
        "# m = slope\n",
        "# c = constant"
      ],
      "execution_count": 10,
      "outputs": []
    },
    {
      "cell_type": "code",
      "metadata": {
        "id": "XBqQdudCq-LO"
      },
      "source": [
        "# For multiple input variables \n",
        "# y = m1x1 + m2x2 + m3x3 + m4x4 + c1+ c2+ c3 + c4\n",
        "# y = m1x1 + m2x2 + m3x3 + m4x4 + c"
      ],
      "execution_count": 11,
      "outputs": []
    },
    {
      "cell_type": "code",
      "metadata": {
        "id": "dAbSkZ3dty6X"
      },
      "source": [
        "# House Price = m1*(no_of_rooms) + m2*(area) + m3*(parking) + m4* (location) + c"
      ],
      "execution_count": 12,
      "outputs": []
    },
    {
      "cell_type": "code",
      "metadata": {
        "id": "fGviKb50vAuy"
      },
      "source": [
        "# Pearson Coorelation \n",
        "# m = Sy/Sx * r"
      ],
      "execution_count": 13,
      "outputs": []
    },
    {
      "cell_type": "code",
      "metadata": {
        "id": "KioaUYbSvetp"
      },
      "source": [
        "# r = SUM((x-x_mean)*(y-y_mean))/ ((SUM(x-x_mean)^2) *(SUM(y-y_mean)^2))^ 0.5"
      ],
      "execution_count": 14,
      "outputs": []
    },
    {
      "cell_type": "code",
      "metadata": {
        "id": "rC7VyUvkwyWl"
      },
      "source": [
        "# For multiple variables\n",
        "\n",
        "# m1 = Sy/Sx1 * r1\n",
        "# r1 = SUM((x1-x1_mean)*(y-y_mean))/ ((SUM(x1-x1_mean)^2) *(SUM(y-y_mean)^2))^ 0.5\n",
        "\n",
        "# m2 = Sy/Sx2 * r2\n",
        "# m3 = Sy/Sx3 * r3\n",
        "# m4 = Sy/Sx4 * r4\n",
        "\n",
        "# c1 = y_mean - x1_mean * m1\n",
        "# c2 = y_mean - x2_mean * m2\n",
        "# c3 = y_mean - x3_mean * m3\n",
        "# c4 = y_mean - x4_mean * m4"
      ],
      "execution_count": 38,
      "outputs": []
    },
    {
      "cell_type": "code",
      "metadata": {
        "id": "IXbl5zf8xd_i"
      },
      "source": [
        "import pandas as pd\n",
        "import numpy as np"
      ],
      "execution_count": 17,
      "outputs": []
    },
    {
      "cell_type": "code",
      "metadata": {
        "colab": {
          "base_uri": "https://localhost:8080/",
          "height": 204
        },
        "id": "h9REhmpQxlYt",
        "outputId": "6c24a7a8-9b7b-4236-c61a-ced23dc2ae52"
      },
      "source": [
        "df = pd.DataFrame(np.random.randint(0, 9, (5,2)), columns= ['x', 'y'])\n",
        "df"
      ],
      "execution_count": 19,
      "outputs": [
        {
          "output_type": "execute_result",
          "data": {
            "text/html": [
              "<div>\n",
              "<style scoped>\n",
              "    .dataframe tbody tr th:only-of-type {\n",
              "        vertical-align: middle;\n",
              "    }\n",
              "\n",
              "    .dataframe tbody tr th {\n",
              "        vertical-align: top;\n",
              "    }\n",
              "\n",
              "    .dataframe thead th {\n",
              "        text-align: right;\n",
              "    }\n",
              "</style>\n",
              "<table border=\"1\" class=\"dataframe\">\n",
              "  <thead>\n",
              "    <tr style=\"text-align: right;\">\n",
              "      <th></th>\n",
              "      <th>x</th>\n",
              "      <th>y</th>\n",
              "    </tr>\n",
              "  </thead>\n",
              "  <tbody>\n",
              "    <tr>\n",
              "      <th>0</th>\n",
              "      <td>6</td>\n",
              "      <td>2</td>\n",
              "    </tr>\n",
              "    <tr>\n",
              "      <th>1</th>\n",
              "      <td>1</td>\n",
              "      <td>7</td>\n",
              "    </tr>\n",
              "    <tr>\n",
              "      <th>2</th>\n",
              "      <td>2</td>\n",
              "      <td>5</td>\n",
              "    </tr>\n",
              "    <tr>\n",
              "      <th>3</th>\n",
              "      <td>4</td>\n",
              "      <td>2</td>\n",
              "    </tr>\n",
              "    <tr>\n",
              "      <th>4</th>\n",
              "      <td>2</td>\n",
              "      <td>0</td>\n",
              "    </tr>\n",
              "  </tbody>\n",
              "</table>\n",
              "</div>"
            ],
            "text/plain": [
              "   x  y\n",
              "0  6  2\n",
              "1  1  7\n",
              "2  2  5\n",
              "3  4  2\n",
              "4  2  0"
            ]
          },
          "metadata": {
            "tags": []
          },
          "execution_count": 19
        }
      ]
    },
    {
      "cell_type": "code",
      "metadata": {
        "id": "ytTPgtL0x5dJ"
      },
      "source": [
        "df['x_m'] = df.x.mean()\n",
        "df['y_m'] = df.y.mean()"
      ],
      "execution_count": 20,
      "outputs": []
    },
    {
      "cell_type": "code",
      "metadata": {
        "colab": {
          "base_uri": "https://localhost:8080/",
          "height": 204
        },
        "id": "YkeKDw2NyPMo",
        "outputId": "0db30593-726f-405f-ff99-2a7ee6dca8e1"
      },
      "source": [
        "df"
      ],
      "execution_count": 21,
      "outputs": [
        {
          "output_type": "execute_result",
          "data": {
            "text/html": [
              "<div>\n",
              "<style scoped>\n",
              "    .dataframe tbody tr th:only-of-type {\n",
              "        vertical-align: middle;\n",
              "    }\n",
              "\n",
              "    .dataframe tbody tr th {\n",
              "        vertical-align: top;\n",
              "    }\n",
              "\n",
              "    .dataframe thead th {\n",
              "        text-align: right;\n",
              "    }\n",
              "</style>\n",
              "<table border=\"1\" class=\"dataframe\">\n",
              "  <thead>\n",
              "    <tr style=\"text-align: right;\">\n",
              "      <th></th>\n",
              "      <th>x</th>\n",
              "      <th>y</th>\n",
              "      <th>x_m</th>\n",
              "      <th>y_m</th>\n",
              "    </tr>\n",
              "  </thead>\n",
              "  <tbody>\n",
              "    <tr>\n",
              "      <th>0</th>\n",
              "      <td>6</td>\n",
              "      <td>2</td>\n",
              "      <td>3.0</td>\n",
              "      <td>3.2</td>\n",
              "    </tr>\n",
              "    <tr>\n",
              "      <th>1</th>\n",
              "      <td>1</td>\n",
              "      <td>7</td>\n",
              "      <td>3.0</td>\n",
              "      <td>3.2</td>\n",
              "    </tr>\n",
              "    <tr>\n",
              "      <th>2</th>\n",
              "      <td>2</td>\n",
              "      <td>5</td>\n",
              "      <td>3.0</td>\n",
              "      <td>3.2</td>\n",
              "    </tr>\n",
              "    <tr>\n",
              "      <th>3</th>\n",
              "      <td>4</td>\n",
              "      <td>2</td>\n",
              "      <td>3.0</td>\n",
              "      <td>3.2</td>\n",
              "    </tr>\n",
              "    <tr>\n",
              "      <th>4</th>\n",
              "      <td>2</td>\n",
              "      <td>0</td>\n",
              "      <td>3.0</td>\n",
              "      <td>3.2</td>\n",
              "    </tr>\n",
              "  </tbody>\n",
              "</table>\n",
              "</div>"
            ],
            "text/plain": [
              "   x  y  x_m  y_m\n",
              "0  6  2  3.0  3.2\n",
              "1  1  7  3.0  3.2\n",
              "2  2  5  3.0  3.2\n",
              "3  4  2  3.0  3.2\n",
              "4  2  0  3.0  3.2"
            ]
          },
          "metadata": {
            "tags": []
          },
          "execution_count": 21
        }
      ]
    },
    {
      "cell_type": "code",
      "metadata": {
        "id": "OrVYYnqVyQtX"
      },
      "source": [
        "df['x-x_m'] = df.x - df.x_m\n",
        "df['y-y_m'] = df.y - df.y_m"
      ],
      "execution_count": 22,
      "outputs": []
    },
    {
      "cell_type": "code",
      "metadata": {
        "colab": {
          "base_uri": "https://localhost:8080/",
          "height": 204
        },
        "id": "9xtMEIdHylHb",
        "outputId": "0f2fbfec-2f26-46eb-ea7d-8d5e99c25a31"
      },
      "source": [
        "df"
      ],
      "execution_count": 23,
      "outputs": [
        {
          "output_type": "execute_result",
          "data": {
            "text/html": [
              "<div>\n",
              "<style scoped>\n",
              "    .dataframe tbody tr th:only-of-type {\n",
              "        vertical-align: middle;\n",
              "    }\n",
              "\n",
              "    .dataframe tbody tr th {\n",
              "        vertical-align: top;\n",
              "    }\n",
              "\n",
              "    .dataframe thead th {\n",
              "        text-align: right;\n",
              "    }\n",
              "</style>\n",
              "<table border=\"1\" class=\"dataframe\">\n",
              "  <thead>\n",
              "    <tr style=\"text-align: right;\">\n",
              "      <th></th>\n",
              "      <th>x</th>\n",
              "      <th>y</th>\n",
              "      <th>x_m</th>\n",
              "      <th>y_m</th>\n",
              "      <th>x-x_m</th>\n",
              "      <th>y-y_m</th>\n",
              "    </tr>\n",
              "  </thead>\n",
              "  <tbody>\n",
              "    <tr>\n",
              "      <th>0</th>\n",
              "      <td>6</td>\n",
              "      <td>2</td>\n",
              "      <td>3.0</td>\n",
              "      <td>3.2</td>\n",
              "      <td>3.0</td>\n",
              "      <td>-1.2</td>\n",
              "    </tr>\n",
              "    <tr>\n",
              "      <th>1</th>\n",
              "      <td>1</td>\n",
              "      <td>7</td>\n",
              "      <td>3.0</td>\n",
              "      <td>3.2</td>\n",
              "      <td>-2.0</td>\n",
              "      <td>3.8</td>\n",
              "    </tr>\n",
              "    <tr>\n",
              "      <th>2</th>\n",
              "      <td>2</td>\n",
              "      <td>5</td>\n",
              "      <td>3.0</td>\n",
              "      <td>3.2</td>\n",
              "      <td>-1.0</td>\n",
              "      <td>1.8</td>\n",
              "    </tr>\n",
              "    <tr>\n",
              "      <th>3</th>\n",
              "      <td>4</td>\n",
              "      <td>2</td>\n",
              "      <td>3.0</td>\n",
              "      <td>3.2</td>\n",
              "      <td>1.0</td>\n",
              "      <td>-1.2</td>\n",
              "    </tr>\n",
              "    <tr>\n",
              "      <th>4</th>\n",
              "      <td>2</td>\n",
              "      <td>0</td>\n",
              "      <td>3.0</td>\n",
              "      <td>3.2</td>\n",
              "      <td>-1.0</td>\n",
              "      <td>-3.2</td>\n",
              "    </tr>\n",
              "  </tbody>\n",
              "</table>\n",
              "</div>"
            ],
            "text/plain": [
              "   x  y  x_m  y_m  x-x_m  y-y_m\n",
              "0  6  2  3.0  3.2    3.0   -1.2\n",
              "1  1  7  3.0  3.2   -2.0    3.8\n",
              "2  2  5  3.0  3.2   -1.0    1.8\n",
              "3  4  2  3.0  3.2    1.0   -1.2\n",
              "4  2  0  3.0  3.2   -1.0   -3.2"
            ]
          },
          "metadata": {
            "tags": []
          },
          "execution_count": 23
        }
      ]
    },
    {
      "cell_type": "code",
      "metadata": {
        "id": "XiKAJ8YyymAg"
      },
      "source": [
        "df['x-x_m_*_y-y_m'] = df['x-x_m'] * df['y-y_m']"
      ],
      "execution_count": 24,
      "outputs": []
    },
    {
      "cell_type": "code",
      "metadata": {
        "colab": {
          "base_uri": "https://localhost:8080/",
          "height": 204
        },
        "id": "RxBx0fa8zdhc",
        "outputId": "86e0498e-3c0e-4615-cd3c-33f7bc3164c5"
      },
      "source": [
        "df"
      ],
      "execution_count": 25,
      "outputs": [
        {
          "output_type": "execute_result",
          "data": {
            "text/html": [
              "<div>\n",
              "<style scoped>\n",
              "    .dataframe tbody tr th:only-of-type {\n",
              "        vertical-align: middle;\n",
              "    }\n",
              "\n",
              "    .dataframe tbody tr th {\n",
              "        vertical-align: top;\n",
              "    }\n",
              "\n",
              "    .dataframe thead th {\n",
              "        text-align: right;\n",
              "    }\n",
              "</style>\n",
              "<table border=\"1\" class=\"dataframe\">\n",
              "  <thead>\n",
              "    <tr style=\"text-align: right;\">\n",
              "      <th></th>\n",
              "      <th>x</th>\n",
              "      <th>y</th>\n",
              "      <th>x_m</th>\n",
              "      <th>y_m</th>\n",
              "      <th>x-x_m</th>\n",
              "      <th>y-y_m</th>\n",
              "      <th>x-x_m_*_y-y_m</th>\n",
              "    </tr>\n",
              "  </thead>\n",
              "  <tbody>\n",
              "    <tr>\n",
              "      <th>0</th>\n",
              "      <td>6</td>\n",
              "      <td>2</td>\n",
              "      <td>3.0</td>\n",
              "      <td>3.2</td>\n",
              "      <td>3.0</td>\n",
              "      <td>-1.2</td>\n",
              "      <td>-3.6</td>\n",
              "    </tr>\n",
              "    <tr>\n",
              "      <th>1</th>\n",
              "      <td>1</td>\n",
              "      <td>7</td>\n",
              "      <td>3.0</td>\n",
              "      <td>3.2</td>\n",
              "      <td>-2.0</td>\n",
              "      <td>3.8</td>\n",
              "      <td>-7.6</td>\n",
              "    </tr>\n",
              "    <tr>\n",
              "      <th>2</th>\n",
              "      <td>2</td>\n",
              "      <td>5</td>\n",
              "      <td>3.0</td>\n",
              "      <td>3.2</td>\n",
              "      <td>-1.0</td>\n",
              "      <td>1.8</td>\n",
              "      <td>-1.8</td>\n",
              "    </tr>\n",
              "    <tr>\n",
              "      <th>3</th>\n",
              "      <td>4</td>\n",
              "      <td>2</td>\n",
              "      <td>3.0</td>\n",
              "      <td>3.2</td>\n",
              "      <td>1.0</td>\n",
              "      <td>-1.2</td>\n",
              "      <td>-1.2</td>\n",
              "    </tr>\n",
              "    <tr>\n",
              "      <th>4</th>\n",
              "      <td>2</td>\n",
              "      <td>0</td>\n",
              "      <td>3.0</td>\n",
              "      <td>3.2</td>\n",
              "      <td>-1.0</td>\n",
              "      <td>-3.2</td>\n",
              "      <td>3.2</td>\n",
              "    </tr>\n",
              "  </tbody>\n",
              "</table>\n",
              "</div>"
            ],
            "text/plain": [
              "   x  y  x_m  y_m  x-x_m  y-y_m  x-x_m_*_y-y_m\n",
              "0  6  2  3.0  3.2    3.0   -1.2           -3.6\n",
              "1  1  7  3.0  3.2   -2.0    3.8           -7.6\n",
              "2  2  5  3.0  3.2   -1.0    1.8           -1.8\n",
              "3  4  2  3.0  3.2    1.0   -1.2           -1.2\n",
              "4  2  0  3.0  3.2   -1.0   -3.2            3.2"
            ]
          },
          "metadata": {
            "tags": []
          },
          "execution_count": 25
        }
      ]
    },
    {
      "cell_type": "code",
      "metadata": {
        "id": "ZUFrSr-Vzef-"
      },
      "source": [
        "df['x-x_m^2'] = df['x-x_m']**2\n",
        "df['y-y_m^2'] = df['y-y_m']**2"
      ],
      "execution_count": 26,
      "outputs": []
    },
    {
      "cell_type": "code",
      "metadata": {
        "colab": {
          "base_uri": "https://localhost:8080/",
          "height": 204
        },
        "id": "KzHeriQqz0A6",
        "outputId": "1f0e74e2-66ce-4277-e86d-fade51b3bdbe"
      },
      "source": [
        "df"
      ],
      "execution_count": 27,
      "outputs": [
        {
          "output_type": "execute_result",
          "data": {
            "text/html": [
              "<div>\n",
              "<style scoped>\n",
              "    .dataframe tbody tr th:only-of-type {\n",
              "        vertical-align: middle;\n",
              "    }\n",
              "\n",
              "    .dataframe tbody tr th {\n",
              "        vertical-align: top;\n",
              "    }\n",
              "\n",
              "    .dataframe thead th {\n",
              "        text-align: right;\n",
              "    }\n",
              "</style>\n",
              "<table border=\"1\" class=\"dataframe\">\n",
              "  <thead>\n",
              "    <tr style=\"text-align: right;\">\n",
              "      <th></th>\n",
              "      <th>x</th>\n",
              "      <th>y</th>\n",
              "      <th>x_m</th>\n",
              "      <th>y_m</th>\n",
              "      <th>x-x_m</th>\n",
              "      <th>y-y_m</th>\n",
              "      <th>x-x_m_*_y-y_m</th>\n",
              "      <th>x-x_m^2</th>\n",
              "      <th>y-y_m^2</th>\n",
              "    </tr>\n",
              "  </thead>\n",
              "  <tbody>\n",
              "    <tr>\n",
              "      <th>0</th>\n",
              "      <td>6</td>\n",
              "      <td>2</td>\n",
              "      <td>3.0</td>\n",
              "      <td>3.2</td>\n",
              "      <td>3.0</td>\n",
              "      <td>-1.2</td>\n",
              "      <td>-3.6</td>\n",
              "      <td>9.0</td>\n",
              "      <td>1.44</td>\n",
              "    </tr>\n",
              "    <tr>\n",
              "      <th>1</th>\n",
              "      <td>1</td>\n",
              "      <td>7</td>\n",
              "      <td>3.0</td>\n",
              "      <td>3.2</td>\n",
              "      <td>-2.0</td>\n",
              "      <td>3.8</td>\n",
              "      <td>-7.6</td>\n",
              "      <td>4.0</td>\n",
              "      <td>14.44</td>\n",
              "    </tr>\n",
              "    <tr>\n",
              "      <th>2</th>\n",
              "      <td>2</td>\n",
              "      <td>5</td>\n",
              "      <td>3.0</td>\n",
              "      <td>3.2</td>\n",
              "      <td>-1.0</td>\n",
              "      <td>1.8</td>\n",
              "      <td>-1.8</td>\n",
              "      <td>1.0</td>\n",
              "      <td>3.24</td>\n",
              "    </tr>\n",
              "    <tr>\n",
              "      <th>3</th>\n",
              "      <td>4</td>\n",
              "      <td>2</td>\n",
              "      <td>3.0</td>\n",
              "      <td>3.2</td>\n",
              "      <td>1.0</td>\n",
              "      <td>-1.2</td>\n",
              "      <td>-1.2</td>\n",
              "      <td>1.0</td>\n",
              "      <td>1.44</td>\n",
              "    </tr>\n",
              "    <tr>\n",
              "      <th>4</th>\n",
              "      <td>2</td>\n",
              "      <td>0</td>\n",
              "      <td>3.0</td>\n",
              "      <td>3.2</td>\n",
              "      <td>-1.0</td>\n",
              "      <td>-3.2</td>\n",
              "      <td>3.2</td>\n",
              "      <td>1.0</td>\n",
              "      <td>10.24</td>\n",
              "    </tr>\n",
              "  </tbody>\n",
              "</table>\n",
              "</div>"
            ],
            "text/plain": [
              "   x  y  x_m  y_m  x-x_m  y-y_m  x-x_m_*_y-y_m  x-x_m^2  y-y_m^2\n",
              "0  6  2  3.0  3.2    3.0   -1.2           -3.6      9.0     1.44\n",
              "1  1  7  3.0  3.2   -2.0    3.8           -7.6      4.0    14.44\n",
              "2  2  5  3.0  3.2   -1.0    1.8           -1.8      1.0     3.24\n",
              "3  4  2  3.0  3.2    1.0   -1.2           -1.2      1.0     1.44\n",
              "4  2  0  3.0  3.2   -1.0   -3.2            3.2      1.0    10.24"
            ]
          },
          "metadata": {
            "tags": []
          },
          "execution_count": 27
        }
      ]
    },
    {
      "cell_type": "code",
      "metadata": {
        "id": "ToYuYeEqz1Xh"
      },
      "source": [
        "num = df['x-x_m_*_y-y_m'].sum()"
      ],
      "execution_count": 28,
      "outputs": []
    },
    {
      "cell_type": "code",
      "metadata": {
        "id": "8PCdb-P10Jnm"
      },
      "source": [
        "den = (df['x-x_m^2'].sum() * df['y-y_m^2'].sum())**0.5"
      ],
      "execution_count": 29,
      "outputs": []
    },
    {
      "cell_type": "code",
      "metadata": {
        "colab": {
          "base_uri": "https://localhost:8080/"
        },
        "id": "220NZ9xr0aJq",
        "outputId": "3c265de9-d8af-463b-8c44-007ecf7baeae"
      },
      "source": [
        "num, den"
      ],
      "execution_count": 30,
      "outputs": [
        {
          "output_type": "execute_result",
          "data": {
            "text/plain": [
              "(-11.0, 22.199099080818574)"
            ]
          },
          "metadata": {
            "tags": []
          },
          "execution_count": 30
        }
      ]
    },
    {
      "cell_type": "code",
      "metadata": {
        "colab": {
          "base_uri": "https://localhost:8080/"
        },
        "id": "h4P1Z-q10d3v",
        "outputId": "a79625f2-e77d-448d-daa0-89591e50d5aa"
      },
      "source": [
        "# r = SUM((x-x_mean)*(y-y_mean))/ ((SUM(x-x_mean)^2) *(SUM(y-y_mean)^2))^ 0.5\n",
        "# Pearson Coefficient\n",
        "\n",
        "r = num/den\n",
        "r"
      ],
      "execution_count": 36,
      "outputs": [
        {
          "output_type": "execute_result",
          "data": {
            "text/plain": [
              "-0.4955156044825574"
            ]
          },
          "metadata": {
            "tags": []
          },
          "execution_count": 36
        }
      ]
    },
    {
      "cell_type": "code",
      "metadata": {
        "id": "VQOHv0bd0-El"
      },
      "source": [
        ""
      ],
      "execution_count": null,
      "outputs": []
    }
  ]
}