{
  "nbformat": 4,
  "nbformat_minor": 0,
  "metadata": {
    "colab": {
      "name": "Python Class 5.ipynb",
      "provenance": [],
      "collapsed_sections": []
    },
    "kernelspec": {
      "name": "python3",
      "display_name": "Python 3"
    },
    "language_info": {
      "name": "python"
    }
  },
  "cells": [
    {
      "cell_type": "code",
      "metadata": {
        "id": "_2O3G0TuMQ9W"
      },
      "source": [
        "import pandas as pd\n",
        "import numpy as np"
      ],
      "execution_count": 2,
      "outputs": []
    },
    {
      "cell_type": "code",
      "metadata": {
        "id": "hUTFcElPMXjg",
        "colab": {
          "base_uri": "https://localhost:8080/",
          "height": 204
        },
        "outputId": "ed294a13-2620-409d-ee72-407107117dc7"
      },
      "source": [
        "df = pd.DataFrame(data = np.random.randint(0,9,(5,3)), columns = ['a', 'b', 'c'])\n",
        "df"
      ],
      "execution_count": 3,
      "outputs": [
        {
          "output_type": "execute_result",
          "data": {
            "text/html": [
              "<div>\n",
              "<style scoped>\n",
              "    .dataframe tbody tr th:only-of-type {\n",
              "        vertical-align: middle;\n",
              "    }\n",
              "\n",
              "    .dataframe tbody tr th {\n",
              "        vertical-align: top;\n",
              "    }\n",
              "\n",
              "    .dataframe thead th {\n",
              "        text-align: right;\n",
              "    }\n",
              "</style>\n",
              "<table border=\"1\" class=\"dataframe\">\n",
              "  <thead>\n",
              "    <tr style=\"text-align: right;\">\n",
              "      <th></th>\n",
              "      <th>a</th>\n",
              "      <th>b</th>\n",
              "      <th>c</th>\n",
              "    </tr>\n",
              "  </thead>\n",
              "  <tbody>\n",
              "    <tr>\n",
              "      <th>0</th>\n",
              "      <td>6</td>\n",
              "      <td>5</td>\n",
              "      <td>7</td>\n",
              "    </tr>\n",
              "    <tr>\n",
              "      <th>1</th>\n",
              "      <td>1</td>\n",
              "      <td>5</td>\n",
              "      <td>6</td>\n",
              "    </tr>\n",
              "    <tr>\n",
              "      <th>2</th>\n",
              "      <td>2</td>\n",
              "      <td>6</td>\n",
              "      <td>5</td>\n",
              "    </tr>\n",
              "    <tr>\n",
              "      <th>3</th>\n",
              "      <td>6</td>\n",
              "      <td>3</td>\n",
              "      <td>0</td>\n",
              "    </tr>\n",
              "    <tr>\n",
              "      <th>4</th>\n",
              "      <td>0</td>\n",
              "      <td>6</td>\n",
              "      <td>5</td>\n",
              "    </tr>\n",
              "  </tbody>\n",
              "</table>\n",
              "</div>"
            ],
            "text/plain": [
              "   a  b  c\n",
              "0  6  5  7\n",
              "1  1  5  6\n",
              "2  2  6  5\n",
              "3  6  3  0\n",
              "4  0  6  5"
            ]
          },
          "metadata": {
            "tags": []
          },
          "execution_count": 3
        }
      ]
    },
    {
      "cell_type": "code",
      "metadata": {
        "colab": {
          "base_uri": "https://localhost:8080/",
          "height": 204
        },
        "id": "6sML7XeZ4wtZ",
        "outputId": "118cb0ab-c78e-4285-acfb-7a17592a959e"
      },
      "source": [
        "# Delete a prticular column\n",
        "df.drop(columns = ['b'])"
      ],
      "execution_count": 4,
      "outputs": [
        {
          "output_type": "execute_result",
          "data": {
            "text/html": [
              "<div>\n",
              "<style scoped>\n",
              "    .dataframe tbody tr th:only-of-type {\n",
              "        vertical-align: middle;\n",
              "    }\n",
              "\n",
              "    .dataframe tbody tr th {\n",
              "        vertical-align: top;\n",
              "    }\n",
              "\n",
              "    .dataframe thead th {\n",
              "        text-align: right;\n",
              "    }\n",
              "</style>\n",
              "<table border=\"1\" class=\"dataframe\">\n",
              "  <thead>\n",
              "    <tr style=\"text-align: right;\">\n",
              "      <th></th>\n",
              "      <th>a</th>\n",
              "      <th>c</th>\n",
              "    </tr>\n",
              "  </thead>\n",
              "  <tbody>\n",
              "    <tr>\n",
              "      <th>0</th>\n",
              "      <td>6</td>\n",
              "      <td>7</td>\n",
              "    </tr>\n",
              "    <tr>\n",
              "      <th>1</th>\n",
              "      <td>1</td>\n",
              "      <td>6</td>\n",
              "    </tr>\n",
              "    <tr>\n",
              "      <th>2</th>\n",
              "      <td>2</td>\n",
              "      <td>5</td>\n",
              "    </tr>\n",
              "    <tr>\n",
              "      <th>3</th>\n",
              "      <td>6</td>\n",
              "      <td>0</td>\n",
              "    </tr>\n",
              "    <tr>\n",
              "      <th>4</th>\n",
              "      <td>0</td>\n",
              "      <td>5</td>\n",
              "    </tr>\n",
              "  </tbody>\n",
              "</table>\n",
              "</div>"
            ],
            "text/plain": [
              "   a  c\n",
              "0  6  7\n",
              "1  1  6\n",
              "2  2  5\n",
              "3  6  0\n",
              "4  0  5"
            ]
          },
          "metadata": {
            "tags": []
          },
          "execution_count": 4
        }
      ]
    },
    {
      "cell_type": "code",
      "metadata": {
        "id": "HtM6Hm7c4_Cy",
        "colab": {
          "base_uri": "https://localhost:8080/",
          "height": 142
        },
        "outputId": "0398a56a-58fe-4d38-982b-e75a9a056024"
      },
      "source": [
        "df.drop(index = [2,3])"
      ],
      "execution_count": 5,
      "outputs": [
        {
          "output_type": "execute_result",
          "data": {
            "text/html": [
              "<div>\n",
              "<style scoped>\n",
              "    .dataframe tbody tr th:only-of-type {\n",
              "        vertical-align: middle;\n",
              "    }\n",
              "\n",
              "    .dataframe tbody tr th {\n",
              "        vertical-align: top;\n",
              "    }\n",
              "\n",
              "    .dataframe thead th {\n",
              "        text-align: right;\n",
              "    }\n",
              "</style>\n",
              "<table border=\"1\" class=\"dataframe\">\n",
              "  <thead>\n",
              "    <tr style=\"text-align: right;\">\n",
              "      <th></th>\n",
              "      <th>a</th>\n",
              "      <th>b</th>\n",
              "      <th>c</th>\n",
              "    </tr>\n",
              "  </thead>\n",
              "  <tbody>\n",
              "    <tr>\n",
              "      <th>0</th>\n",
              "      <td>6</td>\n",
              "      <td>5</td>\n",
              "      <td>7</td>\n",
              "    </tr>\n",
              "    <tr>\n",
              "      <th>1</th>\n",
              "      <td>1</td>\n",
              "      <td>5</td>\n",
              "      <td>6</td>\n",
              "    </tr>\n",
              "    <tr>\n",
              "      <th>4</th>\n",
              "      <td>0</td>\n",
              "      <td>6</td>\n",
              "      <td>5</td>\n",
              "    </tr>\n",
              "  </tbody>\n",
              "</table>\n",
              "</div>"
            ],
            "text/plain": [
              "   a  b  c\n",
              "0  6  5  7\n",
              "1  1  5  6\n",
              "4  0  6  5"
            ]
          },
          "metadata": {
            "tags": []
          },
          "execution_count": 5
        }
      ]
    },
    {
      "cell_type": "code",
      "metadata": {
        "id": "kgRU_BTtvqja"
      },
      "source": [
        "# Repetitive set of codes that is written once and can be called multiple times . It is meant for \n",
        "# desired set of results"
      ],
      "execution_count": 6,
      "outputs": []
    },
    {
      "cell_type": "code",
      "metadata": {
        "id": "TpI4UVYQwDc3"
      },
      "source": [
        "# f-strings and or formatted strings: Ther are meant to put variable in printy statement\n",
        "# f'normal text to be printed but but whenever you want to print a variabale put it in {variable name}"
      ],
      "execution_count": 7,
      "outputs": []
    },
    {
      "cell_type": "code",
      "metadata": {
        "id": "sxAL1mtmwQlR"
      },
      "source": [
        "studentlist = [\"student_A\", \"student_B\", \"student_C\"]"
      ],
      "execution_count": 8,
      "outputs": []
    },
    {
      "cell_type": "code",
      "metadata": {
        "colab": {
          "base_uri": "https://localhost:8080/"
        },
        "id": "Ib4a_gm3w8j5",
        "outputId": "0290d3c7-b471-41c4-f953-d94fb3139cb6"
      },
      "source": [
        "print(f\"Hello {studentlist[0]}\")\n",
        "print(f\"Hello {studentlist[1]}\")\n",
        "print(f\"Hello {studentlist[2]}\")"
      ],
      "execution_count": 9,
      "outputs": [
        {
          "output_type": "stream",
          "text": [
            "Hello student_A\n",
            "Hello student_B\n",
            "Hello student_C\n"
          ],
          "name": "stdout"
        }
      ]
    },
    {
      "cell_type": "markdown",
      "metadata": {
        "id": "exJfBcMcyR7-"
      },
      "source": [
        "Functions"
      ]
    },
    {
      "cell_type": "code",
      "metadata": {
        "id": "qChuC4_WyV_G"
      },
      "source": [
        "# def is a reserved keyword which stands for definition\n",
        "# syntax\n",
        "# def function_name():\n",
        "\n",
        "# Function Name Rules-\n",
        "# 1. Don't use any special character except underscore\n",
        "# 2. You can use munbers in the name but don't start with it\n",
        "# 3. Best Practise- Don't start your function name with capital letters\n",
        "\n",
        "# Print_hello vs printHello (Any one can be used for function name)"
      ],
      "execution_count": 10,
      "outputs": []
    },
    {
      "cell_type": "code",
      "metadata": {
        "id": "2oGHArnVz2JU"
      },
      "source": [
        "# code line 1\n",
        "# code line 2\n",
        "# code line 3\n",
        "# code line 4\n",
        "# code line 5\n",
        "# def functionname\n",
        "#     funcbody 1\n",
        "#     funcbody 2\n",
        "# code line........"
      ],
      "execution_count": 11,
      "outputs": []
    },
    {
      "cell_type": "code",
      "metadata": {
        "id": "IOUgpdDNzT08"
      },
      "source": [
        "def print_hello(): # given function name # stats the function name line is over and we have started our func body\n",
        "  print (\"Hello Students!!\") # this is a function body"
      ],
      "execution_count": 12,
      "outputs": []
    },
    {
      "cell_type": "code",
      "metadata": {
        "colab": {
          "base_uri": "https://localhost:8080/"
        },
        "id": "kl45flXe0HCv",
        "outputId": "1203b8bc-7850-45b9-b816-ec8003247f55"
      },
      "source": [
        "print_hello()"
      ],
      "execution_count": 13,
      "outputs": [
        {
          "output_type": "stream",
          "text": [
            "Hello Students!!\n"
          ],
          "name": "stdout"
        }
      ]
    },
    {
      "cell_type": "code",
      "metadata": {
        "id": "9CzqOp3o0ncX"
      },
      "source": [
        "# Personalised Message\n",
        "def print_hello(Student_Name):\n",
        "  print(\"***************\")\n",
        "  print(f\"Hello {Student_Name}\") # f-string is mandatory. They allow varaibles in print statement\n",
        "  print(\"***************\")"
      ],
      "execution_count": 14,
      "outputs": []
    },
    {
      "cell_type": "code",
      "metadata": {
        "colab": {
          "base_uri": "https://localhost:8080/"
        },
        "id": "F4cQeM921tCo",
        "outputId": "5aa99a65-879c-47bd-96c8-1b035cfc5a7f"
      },
      "source": [
        "print_hello(\"Uttam\")"
      ],
      "execution_count": 15,
      "outputs": [
        {
          "output_type": "stream",
          "text": [
            "***************\n",
            "Hello Uttam\n",
            "***************\n"
          ],
          "name": "stdout"
        }
      ]
    },
    {
      "cell_type": "code",
      "metadata": {
        "id": "RpSQCwRp1wqT"
      },
      "source": [
        "# Print function just provuides a print statement it does not hand out results\n",
        "# return function can provide result and output in the function"
      ],
      "execution_count": 16,
      "outputs": []
    },
    {
      "cell_type": "code",
      "metadata": {
        "id": "Axxtx1mr3PtK"
      },
      "source": [
        "def my_add(x, y):\n",
        "  print (x+y)"
      ],
      "execution_count": 17,
      "outputs": []
    },
    {
      "cell_type": "code",
      "metadata": {
        "colab": {
          "base_uri": "https://localhost:8080/"
        },
        "id": "93UVtchU3WlC",
        "outputId": "d7e9f1cc-1442-4000-d91a-382b1c27755b"
      },
      "source": [
        "a = my_add(3, 4) # Its just a print statement as the out shows none\n",
        "print(a)"
      ],
      "execution_count": 18,
      "outputs": [
        {
          "output_type": "stream",
          "text": [
            "7\n",
            "None\n"
          ],
          "name": "stdout"
        }
      ]
    },
    {
      "cell_type": "code",
      "metadata": {
        "id": "5k9OudKe3cjN"
      },
      "source": [
        "def my_add(x, y):\n",
        "  return (x+y)"
      ],
      "execution_count": 19,
      "outputs": []
    },
    {
      "cell_type": "code",
      "metadata": {
        "colab": {
          "base_uri": "https://localhost:8080/"
        },
        "id": "uj7q35Re3ypZ",
        "outputId": "914938b9-498e-42db-9e20-c88a7c9575a1"
      },
      "source": [
        "b = my_add(3, 4) # The output and print statement are both same unlike previous print option\n",
        "print(b)"
      ],
      "execution_count": 20,
      "outputs": [
        {
          "output_type": "stream",
          "text": [
            "7\n"
          ],
          "name": "stdout"
        }
      ]
    },
    {
      "cell_type": "code",
      "metadata": {
        "id": "IMuqsn9i31NA"
      },
      "source": [
        "# Make calculator function\n",
        "# 1. It should perform add/sub/multiply/division\n",
        "# 2. It should ask for input\n",
        "# 3. simply return results\n"
      ],
      "execution_count": 21,
      "outputs": []
    },
    {
      "cell_type": "code",
      "metadata": {
        "id": "ljP_6G2K4rDX"
      },
      "source": [
        "def calculator(x, y, ops):\n",
        "  \"\"\"\n",
        "This is a simple claculator implemented for understanding the function. \n",
        "It can do 4 operation:\n",
        "1. Use \"add\" for addition\n",
        "2. Use \"sub\" for subtraction\n",
        "3. Use \"mul\" for multiplication\n",
        "4. Use \"div\" for division\n",
        "\n",
        "Input:\n",
        "x -First value\n",
        "y - Second Value\n",
        "ops - Thrid Value\n",
        "\n",
        "Returns:\n",
        "The valid results of operation\n",
        "\n",
        "Error code:\n",
        "\"The operation is not defined, try again\"\n",
        "  \"\"\"\n",
        "  if ops == \"add\":\n",
        "    return(x+y)\n",
        "  elif ops == \"sub\":\n",
        "    return (x-y)\n",
        "  elif ops == \"mul\":\n",
        "    return (x*y)\n",
        "  elif ops == \"div\":\n",
        "    return(x/y)\n",
        "  else:\n",
        "    return(\"The operation is not defined, try again\")"
      ],
      "execution_count": 41,
      "outputs": []
    },
    {
      "cell_type": "code",
      "metadata": {
        "colab": {
          "base_uri": "https://localhost:8080/"
        },
        "id": "OhaYGNi_RnK1",
        "outputId": "134e25b3-aa13-42d3-a2d8-a5a7c4d6c2c9"
      },
      "source": [
        "calculator(20, 4, \"div\")"
      ],
      "execution_count": 38,
      "outputs": [
        {
          "output_type": "execute_result",
          "data": {
            "text/plain": [
              "5.0"
            ]
          },
          "metadata": {
            "tags": []
          },
          "execution_count": 38
        }
      ]
    },
    {
      "cell_type": "code",
      "metadata": {
        "colab": {
          "base_uri": "https://localhost:8080/",
          "height": 35
        },
        "id": "-OY4V-gwR66X",
        "outputId": "d573d0b9-c0eb-49e7-85cf-f9ddeab203c5"
      },
      "source": [
        "calculator(20, 4, \"average\")"
      ],
      "execution_count": 39,
      "outputs": [
        {
          "output_type": "execute_result",
          "data": {
            "application/vnd.google.colaboratory.intrinsic+json": {
              "type": "string"
            },
            "text/plain": [
              "'The operation is not defined, try again'"
            ]
          },
          "metadata": {
            "tags": []
          },
          "execution_count": 39
        }
      ]
    },
    {
      "cell_type": "code",
      "metadata": {
        "id": "7LzLv-FwSDOF"
      },
      "source": [
        "def calculator2(x, y, ops = \"add\"): # Here ops =\"add\" is s not default argument and not positional argument, so it is not mandetory\n",
        "  \"\"\"\n",
        "This is a simple claculator implemented for understanding the function. \n",
        "It can do 4 operation:\n",
        "1. Use \"add\" for addition\n",
        "2. Use \"sub\" for subtraction\n",
        "3. Use \"mul\" for multiplication\n",
        "4. Use \"div\" for division\n",
        "\n",
        "Input:\n",
        "x -First value\n",
        "y - Second Value\n",
        "ops - Operations to perform, which is by default \"add\"\n",
        "\n",
        "Returns:\n",
        "The valid results of operation\n",
        "\n",
        "Error code:\n",
        "\"The operation is not defined, try again\"\n",
        "  \"\"\"\n",
        "  if ops == \"add\":\n",
        "    return(x+y)\n",
        "  elif ops == \"sub\":\n",
        "    return (x-y)\n",
        "  elif ops == \"mul\":\n",
        "    return (x*y)\n",
        "  elif ops == \"div\":\n",
        "    return(x/y)\n",
        "  else:\n",
        "    return(\"The operation is not defined, try again\")"
      ],
      "execution_count": 43,
      "outputs": []
    },
    {
      "cell_type": "code",
      "metadata": {
        "colab": {
          "base_uri": "https://localhost:8080/",
          "height": 163
        },
        "id": "US5CeKqGV_rb",
        "outputId": "ae0f7f37-fe56-4e7c-ddc3-728f08a72da3"
      },
      "source": [
        "calcualtor(10, 5)"
      ],
      "execution_count": 44,
      "outputs": [
        {
          "output_type": "error",
          "ename": "NameError",
          "evalue": "ignored",
          "traceback": [
            "\u001b[0;31m---------------------------------------------------------------------------\u001b[0m",
            "\u001b[0;31mNameError\u001b[0m                                 Traceback (most recent call last)",
            "\u001b[0;32m<ipython-input-44-0e66b5a19501>\u001b[0m in \u001b[0;36m<module>\u001b[0;34m()\u001b[0m\n\u001b[0;32m----> 1\u001b[0;31m \u001b[0mcalcualtor\u001b[0m\u001b[0;34m(\u001b[0m\u001b[0;36m10\u001b[0m\u001b[0;34m,\u001b[0m \u001b[0;36m5\u001b[0m\u001b[0;34m)\u001b[0m\u001b[0;34m\u001b[0m\u001b[0;34m\u001b[0m\u001b[0m\n\u001b[0m",
            "\u001b[0;31mNameError\u001b[0m: name 'calcualtor' is not defined"
          ]
        }
      ]
    },
    {
      "cell_type": "code",
      "metadata": {
        "colab": {
          "base_uri": "https://localhost:8080/"
        },
        "id": "cPEV6sOuWOde",
        "outputId": "20c44c53-a074-4368-c2aa-090242a96052"
      },
      "source": [
        "calculator2(10,5)"
      ],
      "execution_count": 45,
      "outputs": [
        {
          "output_type": "execute_result",
          "data": {
            "text/plain": [
              "15"
            ]
          },
          "metadata": {
            "tags": []
          },
          "execution_count": 45
        }
      ]
    },
    {
      "cell_type": "code",
      "metadata": {
        "id": "YPDwhAcHWRNi"
      },
      "source": [
        "# All the positional arguments should come on first\n",
        "# And the default arguments should come at last"
      ],
      "execution_count": 46,
      "outputs": []
    },
    {
      "cell_type": "code",
      "metadata": {
        "colab": {
          "base_uri": "https://localhost:8080/",
          "height": 359
        },
        "id": "iZumd0sxWn2P",
        "outputId": "f255037c-acb5-419c-8a82-0e05572bd29a"
      },
      "source": [
        "df = pd.DataFrame(np.random.randint(1, 100, (10, 1)), columns = [\"Price\"])\n",
        "df"
      ],
      "execution_count": 77,
      "outputs": [
        {
          "output_type": "execute_result",
          "data": {
            "text/html": [
              "<div>\n",
              "<style scoped>\n",
              "    .dataframe tbody tr th:only-of-type {\n",
              "        vertical-align: middle;\n",
              "    }\n",
              "\n",
              "    .dataframe tbody tr th {\n",
              "        vertical-align: top;\n",
              "    }\n",
              "\n",
              "    .dataframe thead th {\n",
              "        text-align: right;\n",
              "    }\n",
              "</style>\n",
              "<table border=\"1\" class=\"dataframe\">\n",
              "  <thead>\n",
              "    <tr style=\"text-align: right;\">\n",
              "      <th></th>\n",
              "      <th>Price</th>\n",
              "    </tr>\n",
              "  </thead>\n",
              "  <tbody>\n",
              "    <tr>\n",
              "      <th>0</th>\n",
              "      <td>21</td>\n",
              "    </tr>\n",
              "    <tr>\n",
              "      <th>1</th>\n",
              "      <td>52</td>\n",
              "    </tr>\n",
              "    <tr>\n",
              "      <th>2</th>\n",
              "      <td>32</td>\n",
              "    </tr>\n",
              "    <tr>\n",
              "      <th>3</th>\n",
              "      <td>66</td>\n",
              "    </tr>\n",
              "    <tr>\n",
              "      <th>4</th>\n",
              "      <td>30</td>\n",
              "    </tr>\n",
              "    <tr>\n",
              "      <th>5</th>\n",
              "      <td>7</td>\n",
              "    </tr>\n",
              "    <tr>\n",
              "      <th>6</th>\n",
              "      <td>16</td>\n",
              "    </tr>\n",
              "    <tr>\n",
              "      <th>7</th>\n",
              "      <td>68</td>\n",
              "    </tr>\n",
              "    <tr>\n",
              "      <th>8</th>\n",
              "      <td>96</td>\n",
              "    </tr>\n",
              "    <tr>\n",
              "      <th>9</th>\n",
              "      <td>12</td>\n",
              "    </tr>\n",
              "  </tbody>\n",
              "</table>\n",
              "</div>"
            ],
            "text/plain": [
              "   Price\n",
              "0     21\n",
              "1     52\n",
              "2     32\n",
              "3     66\n",
              "4     30\n",
              "5      7\n",
              "6     16\n",
              "7     68\n",
              "8     96\n",
              "9     12"
            ]
          },
          "metadata": {
            "tags": []
          },
          "execution_count": 77
        }
      ]
    },
    {
      "cell_type": "code",
      "metadata": {
        "id": "7RJfXoLkZLd3"
      },
      "source": [
        "# Problem Statment\n",
        "# Price < 50, give a discount of 5%\n",
        "# Price > 50, give a discount of 10%"
      ],
      "execution_count": 78,
      "outputs": []
    },
    {
      "cell_type": "code",
      "metadata": {
        "id": "xQmllrMxZ-7A"
      },
      "source": [
        "def price(c):\n",
        "  if c < 50:\n",
        "    return (0.05 * c + c )\n",
        "  elif 100> c> 50:\n",
        "    return ( 0.1* c + c)\n",
        "  elif c == 50:\n",
        "    return(c)\n",
        "  else:\n",
        "    return (\"Error\")"
      ],
      "execution_count": 79,
      "outputs": []
    },
    {
      "cell_type": "code",
      "metadata": {
        "id": "wBXMDwuLbttY"
      },
      "source": [
        "df[\"New Price\"]= df.Price.apply(price) # apply the function in all data frame"
      ],
      "execution_count": 80,
      "outputs": []
    },
    {
      "cell_type": "code",
      "metadata": {
        "colab": {
          "base_uri": "https://localhost:8080/",
          "height": 359
        },
        "id": "9Fk1NgTvcFSc",
        "outputId": "494369d9-4a41-4293-88e2-12e4c56a0c2c"
      },
      "source": [
        "df"
      ],
      "execution_count": 81,
      "outputs": [
        {
          "output_type": "execute_result",
          "data": {
            "text/html": [
              "<div>\n",
              "<style scoped>\n",
              "    .dataframe tbody tr th:only-of-type {\n",
              "        vertical-align: middle;\n",
              "    }\n",
              "\n",
              "    .dataframe tbody tr th {\n",
              "        vertical-align: top;\n",
              "    }\n",
              "\n",
              "    .dataframe thead th {\n",
              "        text-align: right;\n",
              "    }\n",
              "</style>\n",
              "<table border=\"1\" class=\"dataframe\">\n",
              "  <thead>\n",
              "    <tr style=\"text-align: right;\">\n",
              "      <th></th>\n",
              "      <th>Price</th>\n",
              "      <th>New Price</th>\n",
              "    </tr>\n",
              "  </thead>\n",
              "  <tbody>\n",
              "    <tr>\n",
              "      <th>0</th>\n",
              "      <td>21</td>\n",
              "      <td>22.05</td>\n",
              "    </tr>\n",
              "    <tr>\n",
              "      <th>1</th>\n",
              "      <td>52</td>\n",
              "      <td>57.20</td>\n",
              "    </tr>\n",
              "    <tr>\n",
              "      <th>2</th>\n",
              "      <td>32</td>\n",
              "      <td>33.60</td>\n",
              "    </tr>\n",
              "    <tr>\n",
              "      <th>3</th>\n",
              "      <td>66</td>\n",
              "      <td>72.60</td>\n",
              "    </tr>\n",
              "    <tr>\n",
              "      <th>4</th>\n",
              "      <td>30</td>\n",
              "      <td>31.50</td>\n",
              "    </tr>\n",
              "    <tr>\n",
              "      <th>5</th>\n",
              "      <td>7</td>\n",
              "      <td>7.35</td>\n",
              "    </tr>\n",
              "    <tr>\n",
              "      <th>6</th>\n",
              "      <td>16</td>\n",
              "      <td>16.80</td>\n",
              "    </tr>\n",
              "    <tr>\n",
              "      <th>7</th>\n",
              "      <td>68</td>\n",
              "      <td>74.80</td>\n",
              "    </tr>\n",
              "    <tr>\n",
              "      <th>8</th>\n",
              "      <td>96</td>\n",
              "      <td>105.60</td>\n",
              "    </tr>\n",
              "    <tr>\n",
              "      <th>9</th>\n",
              "      <td>12</td>\n",
              "      <td>12.60</td>\n",
              "    </tr>\n",
              "  </tbody>\n",
              "</table>\n",
              "</div>"
            ],
            "text/plain": [
              "   Price  New Price\n",
              "0     21      22.05\n",
              "1     52      57.20\n",
              "2     32      33.60\n",
              "3     66      72.60\n",
              "4     30      31.50\n",
              "5      7       7.35\n",
              "6     16      16.80\n",
              "7     68      74.80\n",
              "8     96     105.60\n",
              "9     12      12.60"
            ]
          },
          "metadata": {
            "tags": []
          },
          "execution_count": 81
        }
      ]
    },
    {
      "cell_type": "code",
      "metadata": {
        "id": "gTsChWvxce3w"
      },
      "source": [
        "def price2(c): # To give a message in return or print function, use f\n",
        "  if c < 50:\n",
        "    return (f\"Price is {0.05 * c + c }\")\n",
        "  elif 100> c> 50:\n",
        "    return (f\"Price is {0.1* c + c}\")\n",
        "  elif c == 50:\n",
        "    return(f\"Price is {c}\")\n",
        "  else:\n",
        "    return (\"Error\")"
      ],
      "execution_count": 85,
      "outputs": []
    },
    {
      "cell_type": "code",
      "metadata": {
        "colab": {
          "base_uri": "https://localhost:8080/",
          "height": 35
        },
        "id": "renMGG3jd925",
        "outputId": "8ca1f8f4-c4b2-4a2b-fc5e-89601fb01586"
      },
      "source": [
        "price2(20)"
      ],
      "execution_count": 86,
      "outputs": [
        {
          "output_type": "execute_result",
          "data": {
            "application/vnd.google.colaboratory.intrinsic+json": {
              "type": "string"
            },
            "text/plain": [
              "'Price is 21.0'"
            ]
          },
          "metadata": {
            "tags": []
          },
          "execution_count": 86
        }
      ]
    },
    {
      "cell_type": "markdown",
      "metadata": {
        "id": "TSGgpol4d7dU"
      },
      "source": [
        "# OOPs- Object Oriented Programmings"
      ]
    },
    {
      "cell_type": "code",
      "metadata": {
        "id": "t4YBpbLqf1I6"
      },
      "source": [
        ""
      ],
      "execution_count": null,
      "outputs": []
    }
  ]
}