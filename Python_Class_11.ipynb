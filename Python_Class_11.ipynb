{
  "nbformat": 4,
  "nbformat_minor": 0,
  "metadata": {
    "colab": {
      "name": "Python Class 11.ipynb",
      "provenance": [],
      "collapsed_sections": []
    },
    "kernelspec": {
      "name": "python3",
      "display_name": "Python 3"
    },
    "language_info": {
      "name": "python"
    }
  },
  "cells": [
    {
      "cell_type": "code",
      "metadata": {
        "id": "r7ZI8Q7uW7VH"
      },
      "source": [
        "# Machine Learning - Machine learning (ML) is the study of computer algorithms that improve automatically through experience and by the use of data.\n",
        "# It is seen as a part of artificial intelligence. Machine learning algorithms build a model based on sample data, known as \"training data\", \n",
        "# in order to make predictions or decisions without being explicitly programmed to do so. \n",
        "# Machine learning algorithms are used in a wide variety of applications, such as in medicine, email filtering, speech recognition, and computer vision, \n",
        "# where it is difficult or unfeasible to develop conventional algorithms to perform the needed tasks\n",
        "\n",
        "# - From Wikipedia"
      ],
      "execution_count": 1,
      "outputs": []
    },
    {
      "cell_type": "code",
      "metadata": {
        "id": "gFoKPuyRYNpW"
      },
      "source": [
        "# The study that improve automatically through experience and by the use of data.\n",
        "\n",
        "# - Human"
      ],
      "execution_count": 2,
      "outputs": []
    },
    {
      "cell_type": "code",
      "metadata": {
        "id": "v_vwm4G4YUJd"
      },
      "source": [
        "# Difference between harcoded and ML"
      ],
      "execution_count": 3,
      "outputs": []
    },
    {
      "cell_type": "code",
      "metadata": {
        "id": "_1F2S4oJZW12"
      },
      "source": [
        "# ML Lifecycle\n",
        "\n",
        "# 1. Training Phase - Where you provide both Output and Input (Ques and Ans) to ML. In return it tries to\n",
        "# find relationnshiup between input an doutput in numerical data\n",
        "\n",
        "# [Input], [Output] --> [Algo] --> [Model]\n",
        "\n",
        "# 2. Testing Phase - You only give input to the model, and the model based on prevuious learning tries to answer.\n",
        "# And for every input there is output predicted\n",
        "\n",
        "# [Input] --> [Model] --> [Output_Pred]\n",
        "# Result - Your output is compared to the original/actual answer & a score is assigned based on the correctness \n",
        "# If the score is good you go to the next phase otherwise you move back to phase I\n",
        "\n",
        "# 3. Predictng Phase - Your steller model is ready for deployment, and will be used in production.\n",
        "# [Input] --> [Model] --> [Output]"
      ],
      "execution_count": 6,
      "outputs": []
    },
    {
      "cell_type": "markdown",
      "metadata": {
        "id": "H1jp7zKxsdnP"
      },
      "source": [
        "Types of Machine Learning\n"
      ]
    },
    {
      "cell_type": "code",
      "metadata": {
        "id": "PifXFnTrskGW"
      },
      "source": [
        "# 1. Supervised Learning - Both INPUT and OUTPUT are provided to the algorithm\n",
        "# The model then creates a relationship between input and output. \n",
        "\n",
        "# 2. Unsupervised Learning - You only give INPUT TO THE MODEL (There is no output)\n",
        "# The model creates a relation between INPUT itself. It tries to cluster the input parameters.\n",
        "# Clusters are formed with homogenous inputs together.\n",
        "# Foe example -  First time user in Neflix"
      ],
      "execution_count": 7,
      "outputs": []
    },
    {
      "cell_type": "code",
      "metadata": {
        "id": "5zmIaj02uhkI"
      },
      "source": [
        "# 1. Supervised Learning - Divided on the type of output they predict. (Output can be categorical or contiuous in nature)\n",
        "\n",
        "# 1.1 Classification - When the problem has a categorical output \n",
        "# 1.2 Regression - When the problem has continuous output"
      ],
      "execution_count": 8,
      "outputs": []
    },
    {
      "cell_type": "code",
      "metadata": {
        "id": "LkIS4opvyFSl"
      },
      "source": [
        ""
      ],
      "execution_count": null,
      "outputs": []
    }
  ]
}