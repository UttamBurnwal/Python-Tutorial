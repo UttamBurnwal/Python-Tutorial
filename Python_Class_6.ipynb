{
  "nbformat": 4,
  "nbformat_minor": 0,
  "metadata": {
    "colab": {
      "name": "Python Class 6.ipynb",
      "provenance": [],
      "collapsed_sections": []
    },
    "kernelspec": {
      "name": "python3",
      "display_name": "Python 3"
    },
    "language_info": {
      "name": "python"
    }
  },
  "cells": [
    {
      "cell_type": "markdown",
      "metadata": {
        "id": "d986srOH6uJv"
      },
      "source": [
        "LAMBDA"
      ]
    },
    {
      "cell_type": "code",
      "metadata": {
        "id": "dxNNilrZ6kp4"
      },
      "source": [
        "func1= lambda x: x+5"
      ],
      "execution_count": null,
      "outputs": []
    },
    {
      "cell_type": "code",
      "metadata": {
        "colab": {
          "base_uri": "https://localhost:8080/"
        },
        "id": "gSxa1at56-pX",
        "outputId": "9e7b5570-3890-4d69-8a04-848e6a7d1631"
      },
      "source": [
        "func1(10)"
      ],
      "execution_count": null,
      "outputs": [
        {
          "output_type": "execute_result",
          "data": {
            "text/plain": [
              "15"
            ]
          },
          "metadata": {
            "tags": []
          },
          "execution_count": 2
        }
      ]
    },
    {
      "cell_type": "code",
      "metadata": {
        "id": "0YRgHl2B6_wC"
      },
      "source": [
        "# lambda_function = lambda input: output"
      ],
      "execution_count": null,
      "outputs": []
    },
    {
      "cell_type": "code",
      "metadata": {
        "id": "toWW7FDK7Iww"
      },
      "source": [
        "func3 = lambda x,y : x+y"
      ],
      "execution_count": null,
      "outputs": []
    },
    {
      "cell_type": "code",
      "metadata": {
        "colab": {
          "base_uri": "https://localhost:8080/"
        },
        "id": "KXlYp7hn7n_-",
        "outputId": "9c418ae4-ea00-4714-cdd0-3dfac3c8301f"
      },
      "source": [
        "func3(2,3)"
      ],
      "execution_count": null,
      "outputs": [
        {
          "output_type": "execute_result",
          "data": {
            "text/plain": [
              "5"
            ]
          },
          "metadata": {
            "tags": []
          },
          "execution_count": 5
        }
      ]
    },
    {
      "cell_type": "markdown",
      "metadata": {
        "id": "bvm70UFh76dg"
      },
      "source": [
        "OOPS - Object Oriented Programming"
      ]
    },
    {
      "cell_type": "code",
      "metadata": {
        "id": "2-J0fvtY78gR"
      },
      "source": [
        "class AmazonUser:            # Reserved Keyword __init__ as well as self\n",
        "  def __init__(self, username):\n",
        "    self.username = username\n",
        "    self.shopping = True"
      ],
      "execution_count": null,
      "outputs": []
    },
    {
      "cell_type": "code",
      "metadata": {
        "id": "UrwoGDin78bD"
      },
      "source": [
        "user1 = AmazonUser(\"Max\") # Initiated a object of the class"
      ],
      "execution_count": null,
      "outputs": []
    },
    {
      "cell_type": "code",
      "metadata": {
        "colab": {
          "base_uri": "https://localhost:8080/"
        },
        "id": "UwcHxJD7oMPb",
        "outputId": "71bb2b2e-1a8d-43ce-fe2c-ec26aad1e9df"
      },
      "source": [
        "user1.shopping"
      ],
      "execution_count": null,
      "outputs": [
        {
          "output_type": "execute_result",
          "data": {
            "text/plain": [
              "True"
            ]
          },
          "metadata": {
            "tags": []
          },
          "execution_count": 8
        }
      ]
    },
    {
      "cell_type": "code",
      "metadata": {
        "colab": {
          "base_uri": "https://localhost:8080/",
          "height": 35
        },
        "id": "ZMOXQFABpIxd",
        "outputId": "a0882b90-fe91-490e-bcf5-286104c52353"
      },
      "source": [
        "user1.username"
      ],
      "execution_count": null,
      "outputs": [
        {
          "output_type": "execute_result",
          "data": {
            "application/vnd.google.colaboratory.intrinsic+json": {
              "type": "string"
            },
            "text/plain": [
              "'Max'"
            ]
          },
          "metadata": {
            "tags": []
          },
          "execution_count": 9
        }
      ]
    },
    {
      "cell_type": "code",
      "metadata": {
        "id": "-rOYG6HxpNPS"
      },
      "source": [
        "user2 = AmazonUser(\"Dan\")"
      ],
      "execution_count": null,
      "outputs": []
    },
    {
      "cell_type": "code",
      "metadata": {
        "colab": {
          "base_uri": "https://localhost:8080/",
          "height": 35
        },
        "id": "vqSuTskDpVDE",
        "outputId": "fa117429-23d5-46f3-d2c3-d9d629ed240f"
      },
      "source": [
        "user2.username"
      ],
      "execution_count": null,
      "outputs": [
        {
          "output_type": "execute_result",
          "data": {
            "application/vnd.google.colaboratory.intrinsic+json": {
              "type": "string"
            },
            "text/plain": [
              "'Dan'"
            ]
          },
          "metadata": {
            "tags": []
          },
          "execution_count": 11
        }
      ]
    },
    {
      "cell_type": "code",
      "metadata": {
        "id": "5RYZ7NW4pZ5o"
      },
      "source": [
        "class NetflixUser:\n",
        "  def __init__(self, username, age, payment):\n",
        "    self.username = username\n",
        "    self.age = age\n",
        "    self.payment = payment\n",
        "  def watch(self):\n",
        "    if self.payment == True:\n",
        "      print(\"Continue watching latest movies\")\n",
        "    else:\n",
        "      print(\"Redirecting to payment page\")\n",
        "  \n",
        "  def watch18plus(self):\n",
        "    if self.age >= 18:\n",
        "      print(\"Continue Watching\")\n",
        "    else:\n",
        "      print(\"18+ content, not allowed to watch\")"
      ],
      "execution_count": null,
      "outputs": []
    },
    {
      "cell_type": "code",
      "metadata": {
        "id": "Fy9o1ZietH_i"
      },
      "source": [
        "nu1 = NetflixUser(\"Max\", 20, True)"
      ],
      "execution_count": null,
      "outputs": []
    },
    {
      "cell_type": "code",
      "metadata": {
        "colab": {
          "base_uri": "https://localhost:8080/"
        },
        "id": "HYztplj_t901",
        "outputId": "02de6f98-d152-4750-a887-155d573d1a7c"
      },
      "source": [
        "nu1.watch()"
      ],
      "execution_count": null,
      "outputs": [
        {
          "output_type": "stream",
          "text": [
            "Continue watching latest movies\n"
          ],
          "name": "stdout"
        }
      ]
    },
    {
      "cell_type": "code",
      "metadata": {
        "id": "K_dGonGpuO3X"
      },
      "source": [
        "nu2 = NetflixUser('Dan', 23, False)"
      ],
      "execution_count": null,
      "outputs": []
    },
    {
      "cell_type": "code",
      "metadata": {
        "colab": {
          "base_uri": "https://localhost:8080/"
        },
        "id": "20V37Iz4ucPQ",
        "outputId": "2c08b79f-89d0-436a-98c0-e11e5cd89c85"
      },
      "source": [
        "nu2.watch()"
      ],
      "execution_count": null,
      "outputs": [
        {
          "output_type": "stream",
          "text": [
            "Redirecting to payment page\n"
          ],
          "name": "stdout"
        }
      ]
    },
    {
      "cell_type": "code",
      "metadata": {
        "colab": {
          "base_uri": "https://localhost:8080/"
        },
        "id": "I4I9AoZYukYY",
        "outputId": "37321ca6-154c-4d8a-d325-b19a1a5c8107"
      },
      "source": [
        "nu1.watch18plus()"
      ],
      "execution_count": null,
      "outputs": [
        {
          "output_type": "stream",
          "text": [
            "Continue Watching\n"
          ],
          "name": "stdout"
        }
      ]
    },
    {
      "cell_type": "code",
      "metadata": {
        "id": "L6vbumk6vdbR"
      },
      "source": [
        "nu3 = NetflixUser(\"Karan\", 16, True)"
      ],
      "execution_count": null,
      "outputs": []
    },
    {
      "cell_type": "code",
      "metadata": {
        "colab": {
          "base_uri": "https://localhost:8080/"
        },
        "id": "U04Ol1RE2REN",
        "outputId": "9feaf690-f35b-46ae-c27d-ef2647fa88d8"
      },
      "source": [
        "nu3.watch18plus()"
      ],
      "execution_count": null,
      "outputs": [
        {
          "output_type": "stream",
          "text": [
            "18+ content, not allowed to watch\n"
          ],
          "name": "stdout"
        }
      ]
    },
    {
      "cell_type": "code",
      "metadata": {
        "id": "S0VFkqdj2Upu"
      },
      "source": [
        "class NetflixUser:\n",
        "  def __init__(self, username, age, payment):\n",
        "    self.username = username\n",
        "    self.age = age\n",
        "    self.payment = payment\n",
        "    self.MovieCount = 0\n",
        "  def watch(self):\n",
        "    if self.payment == True:\n",
        "      print(\"Continue watching latest movies\")\n",
        "    else:\n",
        "      print(\"Redirecting to payment page\")\n",
        "  \n",
        "  def watch18plus(self):\n",
        "    if self.age >= 18:\n",
        "      print(\"Continue Watching\")\n",
        "      self.MovieCount += 1\n",
        "    else:\n",
        "      print(\"18+ content, not allowed to watch\")"
      ],
      "execution_count": null,
      "outputs": []
    },
    {
      "cell_type": "code",
      "metadata": {
        "id": "U3qdjUqb3hSw"
      },
      "source": [
        "nu1 = NetflixUser(\"Max\", 20, True)"
      ],
      "execution_count": null,
      "outputs": []
    },
    {
      "cell_type": "code",
      "metadata": {
        "id": "l64pk6Hd3ouB"
      },
      "source": [
        "nu2 = NetflixUser('Dan', 23, False)"
      ],
      "execution_count": null,
      "outputs": []
    },
    {
      "cell_type": "code",
      "metadata": {
        "id": "P61W_Aht30Al"
      },
      "source": [
        "nu3 = NetflixUser(\"Karan\", 16, True)"
      ],
      "execution_count": null,
      "outputs": []
    },
    {
      "cell_type": "code",
      "metadata": {
        "colab": {
          "base_uri": "https://localhost:8080/"
        },
        "id": "LRStr8qp39A5",
        "outputId": "992347d1-2a4f-4d1c-a24d-9537d9c82ab0"
      },
      "source": [
        "nu1.MovieCount, nu2.MovieCount, nu3.MovieCount"
      ],
      "execution_count": null,
      "outputs": [
        {
          "output_type": "execute_result",
          "data": {
            "text/plain": [
              "(0, 0, 0)"
            ]
          },
          "metadata": {
            "tags": []
          },
          "execution_count": 24
        }
      ]
    },
    {
      "cell_type": "code",
      "metadata": {
        "colab": {
          "base_uri": "https://localhost:8080/"
        },
        "id": "dy9XDOdN4Drb",
        "outputId": "0f9cfadb-93b2-4e9d-8b8c-da008b262821"
      },
      "source": [
        "nu1.watch18plus()"
      ],
      "execution_count": null,
      "outputs": [
        {
          "output_type": "stream",
          "text": [
            "Continue Watching\n"
          ],
          "name": "stdout"
        }
      ]
    },
    {
      "cell_type": "code",
      "metadata": {
        "colab": {
          "base_uri": "https://localhost:8080/"
        },
        "id": "nFPbdWyJ4MDD",
        "outputId": "f3eabacf-4084-4511-fa31-a05bd1ad14cc"
      },
      "source": [
        "nu2.watch18plus()"
      ],
      "execution_count": null,
      "outputs": [
        {
          "output_type": "stream",
          "text": [
            "Continue Watching\n"
          ],
          "name": "stdout"
        }
      ]
    },
    {
      "cell_type": "code",
      "metadata": {
        "colab": {
          "base_uri": "https://localhost:8080/"
        },
        "id": "pLtpV8jt4Slq",
        "outputId": "f21e0dbb-cea6-45f0-cbe8-9f72b9180fb9"
      },
      "source": [
        " nu3.watch18plus()"
      ],
      "execution_count": null,
      "outputs": [
        {
          "output_type": "stream",
          "text": [
            "18+ content, not allowed to watch\n"
          ],
          "name": "stdout"
        }
      ]
    },
    {
      "cell_type": "code",
      "metadata": {
        "colab": {
          "base_uri": "https://localhost:8080/"
        },
        "id": "qfmzpq_x4VqA",
        "outputId": "37be47e8-b255-4abb-c4d4-e75144d09500"
      },
      "source": [
        "nu1.MovieCount, nu2.MovieCount, nu3.MovieCount"
      ],
      "execution_count": null,
      "outputs": [
        {
          "output_type": "execute_result",
          "data": {
            "text/plain": [
              "(1, 1, 0)"
            ]
          },
          "metadata": {
            "tags": []
          },
          "execution_count": 28
        }
      ]
    },
    {
      "cell_type": "code",
      "metadata": {
        "id": "HyYV2v8y4Y1U"
      },
      "source": [
        "class BankAtmUser():\n",
        "  def __init__(self, username, age):\n",
        "    self.username = username\n",
        "    self.age = age\n",
        "    self.current_balance = 0\n",
        "\n",
        "  def addmoney(self, amount):\n",
        "    if self.age >= 18:\n",
        "      self.current_balance = self.current_balance + amount\n",
        "    else:\n",
        "      print(\"Not allowed\")\n",
        "\n",
        "    def withdraw(self, with_amount):\n",
        "      if (with_amount > 0):\n",
        "        if (self.current_balance > with_amount):\n",
        "          self.current_balance = self.current_balance - with_amount\n",
        "        else:\n",
        "          print(\"insufficient balance\")\n",
        "\n",
        "      else:\n",
        "        print(\"Withdraw money can not be less than 0\")\n",
        "\n"
      ],
      "execution_count": null,
      "outputs": []
    },
    {
      "cell_type": "code",
      "metadata": {
        "id": "cc9XsgO175UU"
      },
      "source": [
        "user1 = BankAtmUser(\"Karan\", 23)"
      ],
      "execution_count": null,
      "outputs": []
    },
    {
      "cell_type": "markdown",
      "metadata": {
        "id": "82nlAy5XkPC0"
      },
      "source": [
        " Properties of OOPS"
      ]
    },
    {
      "cell_type": "code",
      "metadata": {
        "id": "HPNI1o5HkRqo"
      },
      "source": [
        "# Inheritance"
      ],
      "execution_count": null,
      "outputs": []
    },
    {
      "cell_type": "code",
      "metadata": {
        "id": "u41BTYaAkX2J"
      },
      "source": [
        "class ParentClass():\n",
        "  def __init__(self, a, b):\n",
        "    self.a = a\n",
        "    self.b = b\n",
        "  def func1 (self):\n",
        "    self.a = self. a + 10"
      ],
      "execution_count": null,
      "outputs": []
    },
    {
      "cell_type": "code",
      "metadata": {
        "colab": {
          "base_uri": "https://localhost:8080/"
        },
        "id": "jWt5GrNJngef",
        "outputId": "1a569958-5994-4bcc-8ae9-f5020e2c908e"
      },
      "source": [
        "pl = ParentClass(10,30)\n",
        "pl.a, pl.b"
      ],
      "execution_count": null,
      "outputs": [
        {
          "output_type": "execute_result",
          "data": {
            "text/plain": [
              "(10, 30)"
            ]
          },
          "metadata": {
            "tags": []
          },
          "execution_count": 35
        }
      ]
    },
    {
      "cell_type": "code",
      "metadata": {
        "colab": {
          "base_uri": "https://localhost:8080/"
        },
        "id": "fXWPKNumnpVq",
        "outputId": "b84eb5a1-df0d-4971-dadb-04ff8079ddf1"
      },
      "source": [
        "pl.func1()\n",
        "pl.a, pl.b"
      ],
      "execution_count": null,
      "outputs": [
        {
          "output_type": "execute_result",
          "data": {
            "text/plain": [
              "(20, 30)"
            ]
          },
          "metadata": {
            "tags": []
          },
          "execution_count": 37
        }
      ]
    },
    {
      "cell_type": "code",
      "metadata": {
        "id": "6Lh50JBbn1Z5"
      },
      "source": [
        "class ChildClass(ParentClass):\n",
        "  def __init__(self, a, b):\n",
        "    self.a = a\n",
        "    self.b = b"
      ],
      "execution_count": null,
      "outputs": []
    },
    {
      "cell_type": "code",
      "metadata": {
        "id": "LJV0e_DDoJZX"
      },
      "source": [
        "c1 = ChildClass(10, 20)"
      ],
      "execution_count": null,
      "outputs": []
    },
    {
      "cell_type": "code",
      "metadata": {
        "id": "ecANEKgWoY6u"
      },
      "source": [
        "c1.func1()"
      ],
      "execution_count": null,
      "outputs": []
    },
    {
      "cell_type": "code",
      "metadata": {
        "colab": {
          "base_uri": "https://localhost:8080/"
        },
        "id": "90hARq9oocwc",
        "outputId": "d689a35f-1e75-4f37-c153-d8e74e4f58b6"
      },
      "source": [
        "c1.a, c1.b"
      ],
      "execution_count": null,
      "outputs": [
        {
          "output_type": "execute_result",
          "data": {
            "text/plain": [
              "(20, 20)"
            ]
          },
          "metadata": {
            "tags": []
          },
          "execution_count": 43
        }
      ]
    },
    {
      "cell_type": "code",
      "metadata": {
        "id": "-rd55Gj7ohBH"
      },
      "source": [
        "class AmazonComUser():\n",
        "  def __init__(self, username, age, location):\n",
        "    self.username = username\n",
        "    self.age = age\n",
        "    self.location = location\n",
        "  def shoppingfunc(self):\n",
        "    self.shopping = True\n",
        "  def func2(self):\n",
        "    print(\"something...\")"
      ],
      "execution_count": null,
      "outputs": []
    },
    {
      "cell_type": "code",
      "metadata": {
        "id": "rQvg1gUfpJln"
      },
      "source": [
        "class PrimeUser(AmazonComUser):\n",
        "  def __init__(self, username, age, location):\n",
        "    super().__init__(username, age, location)\n",
        "\n",
        "  def shoppingfunc(self, watchmovies):\n",
        "    self.watchmovies = watchmovies\n",
        "    self.shopping = False\n",
        "    print(\"Shop through prime\")"
      ],
      "execution_count": null,
      "outputs": []
    },
    {
      "cell_type": "code",
      "metadata": {
        "id": "VWNYCxaQp0Ki"
      },
      "source": [
        "p1 = PrimeUser(\"Poo\", 25, \"Texas\")"
      ],
      "execution_count": null,
      "outputs": []
    },
    {
      "cell_type": "code",
      "metadata": {
        "colab": {
          "base_uri": "https://localhost:8080/"
        },
        "id": "BdWIVh-qqwl0",
        "outputId": "aa44de8c-bd73-4286-ac21-fef2fc3c1967"
      },
      "source": [
        "p1.shoppingfunc(watchmovies= True)"
      ],
      "execution_count": null,
      "outputs": [
        {
          "output_type": "stream",
          "text": [
            "Shop through prime\n"
          ],
          "name": "stdout"
        }
      ]
    },
    {
      "cell_type": "code",
      "metadata": {
        "id": "K9tajyldsFyg"
      },
      "source": [
        ""
      ],
      "execution_count": null,
      "outputs": []
    }
  ]
}