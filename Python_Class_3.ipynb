{
  "nbformat": 4,
  "nbformat_minor": 0,
  "metadata": {
    "colab": {
      "name": "Python Class 3.ipynb",
      "provenance": [],
      "collapsed_sections": []
    },
    "kernelspec": {
      "name": "python3",
      "display_name": "Python 3"
    },
    "language_info": {
      "name": "python"
    }
  },
  "cells": [
    {
      "cell_type": "code",
      "metadata": {
        "colab": {
          "base_uri": "https://localhost:8080/"
        },
        "id": "cJ4pc3YI7JZD",
        "outputId": "19b4d4ae-4782-4ec6-d016-d4d25cc30f87"
      },
      "source": [
        "pip show numpy"
      ],
      "execution_count": 1,
      "outputs": [
        {
          "output_type": "stream",
          "text": [
            "Name: numpy\n",
            "Version: 1.19.5\n",
            "Summary: NumPy is the fundamental package for array computing with Python.\n",
            "Home-page: https://www.numpy.org\n",
            "Author: Travis E. Oliphant et al.\n",
            "Author-email: None\n",
            "License: BSD\n",
            "Location: /usr/local/lib/python3.7/dist-packages\n",
            "Requires: \n",
            "Required-by: yellowbrick, xgboost, xarray, wordcloud, torchvision, torchtext, tifffile, thinc, Theano-PyMC, tensorflow, tensorflow-probability, tensorflow-hub, tensorflow-datasets, tensorboard, tables, statsmodels, spacy, sklearn-pandas, seaborn, scs, scipy, scikit-learn, resampy, qdldl, PyWavelets, python-louvain, pystan, pysndfile, pymc3, pyerfa, pyemd, pyarrow, plotnine, patsy, pandas, osqp, opt-einsum, opencv-python, opencv-contrib-python, numexpr, numba, nibabel, netCDF4, moviepy, mlxtend, mizani, missingno, matplotlib, matplotlib-venn, lightgbm, librosa, Keras, Keras-Preprocessing, kapre, jpeg4py, jaxlib, jax, imgaug, imbalanced-learn, imageio, hyperopt, holoviews, h5py, gym, gensim, folium, fix-yahoo-finance, fbprophet, fastprogress, fastdtw, fastai, fa2, ecos, daft, cvxpy, cufflinks, cmdstanpy, cftime, Bottleneck, bokeh, blis, autograd, atari-py, astropy, arviz, altair, albumentations\n"
          ],
          "name": "stdout"
        }
      ]
    },
    {
      "cell_type": "code",
      "metadata": {
        "colab": {
          "base_uri": "https://localhost:8080/"
        },
        "id": "D7hFcUas8Bfv",
        "outputId": "ce72ce4d-18e5-4f74-8126-50b31968fe80"
      },
      "source": [
        "pip show jump2y"
      ],
      "execution_count": 2,
      "outputs": [
        {
          "output_type": "stream",
          "text": [
            "\u001b[33mWARNING: Package(s) not found: jump2y\u001b[0m\n"
          ],
          "name": "stdout"
        }
      ]
    },
    {
      "cell_type": "code",
      "metadata": {
        "id": "cIN-V5LK7HMs"
      },
      "source": [
        "# Install packages\n",
        "\n",
        "# ! pip install <PACKAGE_NAME>\n",
        "\n",
        "# Uninstall Package\n",
        "\n",
        "# ! pip uminstall <PACKAGE_NAME>\n",
        "\n",
        "# Upgrade package\n",
        "\n",
        "# ! pip install --upgrade Numpy "
      ],
      "execution_count": 3,
      "outputs": []
    },
    {
      "cell_type": "code",
      "metadata": {
        "id": "Zz02_jhu7HYc"
      },
      "source": [
        "# Install Specific Version\n",
        "# ! pip install numpy ==1.19.0"
      ],
      "execution_count": 4,
      "outputs": []
    },
    {
      "cell_type": "markdown",
      "metadata": {
        "id": "BiEErtoz_cNb"
      },
      "source": [
        "## Numpy\n",
        "\n"
      ]
    },
    {
      "cell_type": "code",
      "metadata": {
        "id": "HlyDCDdg_bbi"
      },
      "source": [
        "list1 = [1,3,5,6,34,2,6,9,78]"
      ],
      "execution_count": 5,
      "outputs": []
    },
    {
      "cell_type": "code",
      "metadata": {
        "colab": {
          "base_uri": "https://localhost:8080/"
        },
        "id": "TtigSJWfCfIi",
        "outputId": "d11ca14e-ce5d-42d7-f863-05f37b4dda0e"
      },
      "source": [
        "list1*2 #multyiplying list with an integer n does not actually perform multiplication function, but repeats the list n number of times"
      ],
      "execution_count": 6,
      "outputs": [
        {
          "output_type": "execute_result",
          "data": {
            "text/plain": [
              "[1, 3, 5, 6, 34, 2, 6, 9, 78, 1, 3, 5, 6, 34, 2, 6, 9, 78]"
            ]
          },
          "metadata": {
            "tags": []
          },
          "execution_count": 6
        }
      ]
    },
    {
      "cell_type": "code",
      "metadata": {
        "colab": {
          "base_uri": "https://localhost:8080/"
        },
        "id": "x7g8aLof_bir",
        "outputId": "6c104bf3-a952-4517-e6cb-af0707c1a677"
      },
      "source": [
        "for item in list1:\n",
        "  print(item*2)"
      ],
      "execution_count": 7,
      "outputs": [
        {
          "output_type": "stream",
          "text": [
            "2\n",
            "6\n",
            "10\n",
            "12\n",
            "68\n",
            "4\n",
            "12\n",
            "18\n",
            "156\n"
          ],
          "name": "stdout"
        }
      ]
    },
    {
      "cell_type": "code",
      "metadata": {
        "colab": {
          "base_uri": "https://localhost:8080/"
        },
        "id": "1i3whzXHCaNM",
        "outputId": "567b1f2d-1323-4f54-eb7c-8c9796f34c92"
      },
      "source": [
        "[i*2 for i in list1]"
      ],
      "execution_count": 8,
      "outputs": [
        {
          "output_type": "execute_result",
          "data": {
            "text/plain": [
              "[2, 6, 10, 12, 68, 4, 12, 18, 156]"
            ]
          },
          "metadata": {
            "tags": []
          },
          "execution_count": 8
        }
      ]
    },
    {
      "cell_type": "code",
      "metadata": {
        "id": "mj0A_Kx2C9MA"
      },
      "source": [
        "# External Library\n",
        "import numpy as np \n",
        "# import the package and name it as np"
      ],
      "execution_count": 9,
      "outputs": []
    },
    {
      "cell_type": "code",
      "metadata": {
        "id": "tPxWvl_kDR3H"
      },
      "source": [
        "# Convert list to array\n",
        "arr1 = np.array(list1)"
      ],
      "execution_count": 10,
      "outputs": []
    },
    {
      "cell_type": "code",
      "metadata": {
        "colab": {
          "base_uri": "https://localhost:8080/"
        },
        "id": "HD5qzfb2Dwfo",
        "outputId": "382c1381-a218-4c85-8f23-dbaf31160da4"
      },
      "source": [
        "type(arr1)"
      ],
      "execution_count": 11,
      "outputs": [
        {
          "output_type": "execute_result",
          "data": {
            "text/plain": [
              "numpy.ndarray"
            ]
          },
          "metadata": {
            "tags": []
          },
          "execution_count": 11
        }
      ]
    },
    {
      "cell_type": "code",
      "metadata": {
        "colab": {
          "base_uri": "https://localhost:8080/"
        },
        "id": "qDoG0Et1DyfW",
        "outputId": "996eb0b7-69e5-4146-c8af-22bed44a6cc7"
      },
      "source": [
        "arr1"
      ],
      "execution_count": 12,
      "outputs": [
        {
          "output_type": "execute_result",
          "data": {
            "text/plain": [
              "array([ 1,  3,  5,  6, 34,  2,  6,  9, 78])"
            ]
          },
          "metadata": {
            "tags": []
          },
          "execution_count": 12
        }
      ]
    },
    {
      "cell_type": "code",
      "metadata": {
        "colab": {
          "base_uri": "https://localhost:8080/"
        },
        "id": "42K-CkyED-83",
        "outputId": "d3eb4c13-de5d-4c59-ef13-80a07dba42fa"
      },
      "source": [
        "arr1 *2"
      ],
      "execution_count": 13,
      "outputs": [
        {
          "output_type": "execute_result",
          "data": {
            "text/plain": [
              "array([  2,   6,  10,  12,  68,   4,  12,  18, 156])"
            ]
          },
          "metadata": {
            "tags": []
          },
          "execution_count": 13
        }
      ]
    },
    {
      "cell_type": "code",
      "metadata": {
        "colab": {
          "base_uri": "https://localhost:8080/"
        },
        "id": "qOJEv4ZhEIPO",
        "outputId": "7a7fa384-472d-4641-8f6e-347a32494326"
      },
      "source": [
        "arr1 #Didn't save changes yet"
      ],
      "execution_count": 14,
      "outputs": [
        {
          "output_type": "execute_result",
          "data": {
            "text/plain": [
              "array([ 1,  3,  5,  6, 34,  2,  6,  9, 78])"
            ]
          },
          "metadata": {
            "tags": []
          },
          "execution_count": 14
        }
      ]
    },
    {
      "cell_type": "code",
      "metadata": {
        "id": "NzMxBUmOEe4t"
      },
      "source": [
        "arr1 = arr1 *2 #Now it is howing changes"
      ],
      "execution_count": 15,
      "outputs": []
    },
    {
      "cell_type": "code",
      "metadata": {
        "colab": {
          "base_uri": "https://localhost:8080/"
        },
        "id": "XB3MDDczElvO",
        "outputId": "a5215833-7124-4c97-dc72-ef2d4c611d10"
      },
      "source": [
        "arr1"
      ],
      "execution_count": 16,
      "outputs": [
        {
          "output_type": "execute_result",
          "data": {
            "text/plain": [
              "array([  2,   6,  10,  12,  68,   4,  12,  18, 156])"
            ]
          },
          "metadata": {
            "tags": []
          },
          "execution_count": 16
        }
      ]
    },
    {
      "cell_type": "code",
      "metadata": {
        "colab": {
          "base_uri": "https://localhost:8080/"
        },
        "id": "r7uIymX9EnXW",
        "outputId": "28894ce1-c928-430f-9216-9f109a7dd0ec"
      },
      "source": [
        "arr1.min()"
      ],
      "execution_count": 17,
      "outputs": [
        {
          "output_type": "execute_result",
          "data": {
            "text/plain": [
              "2"
            ]
          },
          "metadata": {
            "tags": []
          },
          "execution_count": 17
        }
      ]
    },
    {
      "cell_type": "code",
      "metadata": {
        "colab": {
          "base_uri": "https://localhost:8080/"
        },
        "id": "7NV0YE-HE0cT",
        "outputId": "d4144106-dd89-479a-9f61-d95b2247a2e6"
      },
      "source": [
        "arr1.max()"
      ],
      "execution_count": 18,
      "outputs": [
        {
          "output_type": "execute_result",
          "data": {
            "text/plain": [
              "156"
            ]
          },
          "metadata": {
            "tags": []
          },
          "execution_count": 18
        }
      ]
    },
    {
      "cell_type": "code",
      "metadata": {
        "colab": {
          "base_uri": "https://localhost:8080/"
        },
        "id": "rS_RBRMGE1uZ",
        "outputId": "5c68046c-c3f8-454e-8794-f2a427247f67"
      },
      "source": [
        "arr1.mean()"
      ],
      "execution_count": 19,
      "outputs": [
        {
          "output_type": "execute_result",
          "data": {
            "text/plain": [
              "32.0"
            ]
          },
          "metadata": {
            "tags": []
          },
          "execution_count": 19
        }
      ]
    },
    {
      "cell_type": "code",
      "metadata": {
        "colab": {
          "base_uri": "https://localhost:8080/"
        },
        "id": "oLWudfikE37F",
        "outputId": "d757aeaa-fd9f-46ec-98f6-6187093f5db5"
      },
      "source": [
        "arr1.std()"
      ],
      "execution_count": 20,
      "outputs": [
        {
          "output_type": "execute_result",
          "data": {
            "text/plain": [
              "47.74003677324842"
            ]
          },
          "metadata": {
            "tags": []
          },
          "execution_count": 20
        }
      ]
    },
    {
      "cell_type": "code",
      "metadata": {
        "id": "3BtrgNTqE53U"
      },
      "source": [
        "arr2 = np.zeros((3,3)) # shape = (rows, column)"
      ],
      "execution_count": 21,
      "outputs": []
    },
    {
      "cell_type": "code",
      "metadata": {
        "colab": {
          "base_uri": "https://localhost:8080/"
        },
        "id": "BgS8XFKUF7MQ",
        "outputId": "40cdc685-e961-4333-c8fe-6fd80a6e5296"
      },
      "source": [
        "arr2"
      ],
      "execution_count": 22,
      "outputs": [
        {
          "output_type": "execute_result",
          "data": {
            "text/plain": [
              "array([[0., 0., 0.],\n",
              "       [0., 0., 0.],\n",
              "       [0., 0., 0.]])"
            ]
          },
          "metadata": {
            "tags": []
          },
          "execution_count": 22
        }
      ]
    },
    {
      "cell_type": "code",
      "metadata": {
        "colab": {
          "base_uri": "https://localhost:8080/"
        },
        "id": "y3cc_5ZnF8pH",
        "outputId": "c9cafa17-4161-40f8-a58d-ca9018b776bd"
      },
      "source": [
        "np.zeros(shape = (4,3), dtype = int)"
      ],
      "execution_count": 23,
      "outputs": [
        {
          "output_type": "execute_result",
          "data": {
            "text/plain": [
              "array([[0, 0, 0],\n",
              "       [0, 0, 0],\n",
              "       [0, 0, 0],\n",
              "       [0, 0, 0]])"
            ]
          },
          "metadata": {
            "tags": []
          },
          "execution_count": 23
        }
      ]
    },
    {
      "cell_type": "code",
      "metadata": {
        "colab": {
          "base_uri": "https://localhost:8080/"
        },
        "id": "k6ifLzH6GF4B",
        "outputId": "8feb8680-b6a9-4a78-b298-343f9b81a1b4"
      },
      "source": [
        "np.zeros(shape = (4,3), dtype = int) +5 # Broadcasting"
      ],
      "execution_count": 24,
      "outputs": [
        {
          "output_type": "execute_result",
          "data": {
            "text/plain": [
              "array([[5, 5, 5],\n",
              "       [5, 5, 5],\n",
              "       [5, 5, 5],\n",
              "       [5, 5, 5]])"
            ]
          },
          "metadata": {
            "tags": []
          },
          "execution_count": 24
        }
      ]
    },
    {
      "cell_type": "code",
      "metadata": {
        "id": "3k4d71kDGIZB"
      },
      "source": [
        "?np.zeros #open help window"
      ],
      "execution_count": 25,
      "outputs": []
    },
    {
      "cell_type": "code",
      "metadata": {
        "colab": {
          "base_uri": "https://localhost:8080/"
        },
        "id": "PqIjb_hLG1V8",
        "outputId": "6438b900-e4a9-4684-b78d-231b62d1d6fd"
      },
      "source": [
        "np.ones(shape=(3,2)) #rows and columns"
      ],
      "execution_count": 26,
      "outputs": [
        {
          "output_type": "execute_result",
          "data": {
            "text/plain": [
              "array([[1., 1.],\n",
              "       [1., 1.],\n",
              "       [1., 1.]])"
            ]
          },
          "metadata": {
            "tags": []
          },
          "execution_count": 26
        }
      ]
    },
    {
      "cell_type": "code",
      "metadata": {
        "colab": {
          "base_uri": "https://localhost:8080/"
        },
        "id": "22eR7D_kHBX7",
        "outputId": "fb3733d1-54a8-4872-c1d1-dc4b7bcd22f6"
      },
      "source": [
        "np.ones(shape=(2,3,2)) #depth, rows and columns"
      ],
      "execution_count": 27,
      "outputs": [
        {
          "output_type": "execute_result",
          "data": {
            "text/plain": [
              "array([[[1., 1.],\n",
              "        [1., 1.],\n",
              "        [1., 1.]],\n",
              "\n",
              "       [[1., 1.],\n",
              "        [1., 1.],\n",
              "        [1., 1.]]])"
            ]
          },
          "metadata": {
            "tags": []
          },
          "execution_count": 27
        }
      ]
    },
    {
      "cell_type": "code",
      "metadata": {
        "id": "raCtWlGTHBvd"
      },
      "source": [
        "# Random Number Generator"
      ],
      "execution_count": 28,
      "outputs": []
    },
    {
      "cell_type": "code",
      "metadata": {
        "colab": {
          "base_uri": "https://localhost:8080/"
        },
        "id": "B7QOimB-HB5r",
        "outputId": "6e7538d6-9970-46e5-e112-64fa463e82e6"
      },
      "source": [
        "np.random.randint(low = 10, high = 25, size = (3,2)) #randint for random integers"
      ],
      "execution_count": 29,
      "outputs": [
        {
          "output_type": "execute_result",
          "data": {
            "text/plain": [
              "array([[21, 20],\n",
              "       [24, 10],\n",
              "       [23, 19]])"
            ]
          },
          "metadata": {
            "tags": []
          },
          "execution_count": 29
        }
      ]
    },
    {
      "cell_type": "code",
      "metadata": {
        "colab": {
          "base_uri": "https://localhost:8080/"
        },
        "id": "wTlKd0agHCDp",
        "outputId": "12bb088e-3964-489c-a5ca-c3e3bc39f47b"
      },
      "source": [
        "np.random.randn(10) #for random float"
      ],
      "execution_count": 30,
      "outputs": [
        {
          "output_type": "execute_result",
          "data": {
            "text/plain": [
              "array([-0.66713696,  0.3394083 , -0.20434981, -1.17389672,  2.21216019,\n",
              "       -0.46642254,  1.66199507,  0.16768489,  0.97128122, -0.61187372])"
            ]
          },
          "metadata": {
            "tags": []
          },
          "execution_count": 30
        }
      ]
    },
    {
      "cell_type": "code",
      "metadata": {
        "id": "y3APjwvdHCTd"
      },
      "source": [
        "# Reshape"
      ],
      "execution_count": 31,
      "outputs": []
    },
    {
      "cell_type": "code",
      "metadata": {
        "id": "cWHRK3muHCkm"
      },
      "source": [
        "arr1= np.random.randn(12)"
      ],
      "execution_count": 32,
      "outputs": []
    },
    {
      "cell_type": "code",
      "metadata": {
        "colab": {
          "base_uri": "https://localhost:8080/"
        },
        "id": "xZ5skq8nI0Iv",
        "outputId": "3eaf65f5-3e6f-4e84-bec8-9387440a4e4f"
      },
      "source": [
        "arr1"
      ],
      "execution_count": 33,
      "outputs": [
        {
          "output_type": "execute_result",
          "data": {
            "text/plain": [
              "array([ 1.25318152,  1.95592483, -0.53685821, -1.46742558, -0.96044199,\n",
              "       -0.40828522, -0.55144893,  0.14304708, -1.89761283,  2.23154441,\n",
              "       -0.3824673 ,  1.15330613])"
            ]
          },
          "metadata": {
            "tags": []
          },
          "execution_count": 33
        }
      ]
    },
    {
      "cell_type": "code",
      "metadata": {
        "colab": {
          "base_uri": "https://localhost:8080/"
        },
        "id": "5npNyf78I7V4",
        "outputId": "00c96741-d72f-4b4f-bf73-b03b7fbfe534"
      },
      "source": [
        "arr1.shape #to know the shape"
      ],
      "execution_count": 34,
      "outputs": [
        {
          "output_type": "execute_result",
          "data": {
            "text/plain": [
              "(12,)"
            ]
          },
          "metadata": {
            "tags": []
          },
          "execution_count": 34
        }
      ]
    },
    {
      "cell_type": "code",
      "metadata": {
        "id": "FyY-yIw2I_gH",
        "colab": {
          "base_uri": "https://localhost:8080/"
        },
        "outputId": "108e53c2-ae7e-436d-ef69-2e59983b6782"
      },
      "source": [
        "arr1.reshape((6,2)) # To reshape the structure of tablee...all rows, columns and depth. The order for reshape function is depth, rows and columns"
      ],
      "execution_count": 39,
      "outputs": [
        {
          "output_type": "execute_result",
          "data": {
            "text/plain": [
              "array([[ 1.25318152,  1.95592483],\n",
              "       [-0.53685821, -1.46742558],\n",
              "       [-0.96044199, -0.40828522],\n",
              "       [-0.55144893,  0.14304708],\n",
              "       [-1.89761283,  2.23154441],\n",
              "       [-0.3824673 ,  1.15330613]])"
            ]
          },
          "metadata": {
            "tags": []
          },
          "execution_count": 39
        }
      ]
    },
    {
      "cell_type": "code",
      "metadata": {
        "colab": {
          "base_uri": "https://localhost:8080/"
        },
        "id": "nev4ZZlV69Mp",
        "outputId": "d5a10f87-5318-4a28-8ff7-bff9bbc03c1b"
      },
      "source": [
        "arr1.reshape((1,4,3))"
      ],
      "execution_count": 38,
      "outputs": [
        {
          "output_type": "execute_result",
          "data": {
            "text/plain": [
              "array([[[ 1.25318152,  1.95592483, -0.53685821],\n",
              "        [-1.46742558, -0.96044199, -0.40828522],\n",
              "        [-0.55144893,  0.14304708, -1.89761283],\n",
              "        [ 2.23154441, -0.3824673 ,  1.15330613]]])"
            ]
          },
          "metadata": {
            "tags": []
          },
          "execution_count": 38
        }
      ]
    },
    {
      "cell_type": "code",
      "metadata": {
        "colab": {
          "base_uri": "https://localhost:8080/"
        },
        "id": "QWpJ54Uw7OkS",
        "outputId": "2f5b5110-04ae-4e2c-e7d4-471e09600735"
      },
      "source": [
        "np.eye((3))"
      ],
      "execution_count": 40,
      "outputs": [
        {
          "output_type": "execute_result",
          "data": {
            "text/plain": [
              "array([[1., 0., 0.],\n",
              "       [0., 1., 0.],\n",
              "       [0., 0., 1.]])"
            ]
          },
          "metadata": {
            "tags": []
          },
          "execution_count": 40
        }
      ]
    },
    {
      "cell_type": "code",
      "metadata": {
        "id": "tOHE9s1E8KE8"
      },
      "source": [
        "arr4= np.random.randint(low = 0, high= 10, size=20)"
      ],
      "execution_count": 42,
      "outputs": []
    },
    {
      "cell_type": "code",
      "metadata": {
        "colab": {
          "base_uri": "https://localhost:8080/"
        },
        "id": "EXBgiImO8wAy",
        "outputId": "7db97994-cf16-4394-a222-877edd648582"
      },
      "source": [
        "arr4"
      ],
      "execution_count": 43,
      "outputs": [
        {
          "output_type": "execute_result",
          "data": {
            "text/plain": [
              "array([5, 8, 9, 3, 9, 2, 6, 0, 3, 2, 8, 9, 0, 9, 7, 4, 1, 2, 8, 3])"
            ]
          },
          "metadata": {
            "tags": []
          },
          "execution_count": 43
        }
      ]
    },
    {
      "cell_type": "code",
      "metadata": {
        "colab": {
          "base_uri": "https://localhost:8080/"
        },
        "id": "0USFZT6m82tH",
        "outputId": "bc2e66fb-ded0-47d1-b4e6-d0deb18f39aa"
      },
      "source": [
        "arr4.argmax() # To find out the position of maximum number"
      ],
      "execution_count": 45,
      "outputs": [
        {
          "output_type": "execute_result",
          "data": {
            "text/plain": [
              "2"
            ]
          },
          "metadata": {
            "tags": []
          },
          "execution_count": 45
        }
      ]
    },
    {
      "cell_type": "code",
      "metadata": {
        "id": "NJ5k9l6K88KQ"
      },
      "source": [
        "# Golden Rule of PYTHON\n",
        "\n",
        "# 1. Every mumber starts with ZERO\n",
        "# 2. In range specified  (m,n) n is exclusive and it will represneted as (m, n-1)"
      ],
      "execution_count": 63,
      "outputs": []
    },
    {
      "cell_type": "code",
      "metadata": {
        "colab": {
          "base_uri": "https://localhost:8080/"
        },
        "id": "0te91FWW9J_Z",
        "outputId": "37e11481-e6b3-4252-a786-fa5e8fa58e4d"
      },
      "source": [
        "arr4.argmin()"
      ],
      "execution_count": 47,
      "outputs": [
        {
          "output_type": "execute_result",
          "data": {
            "text/plain": [
              "7"
            ]
          },
          "metadata": {
            "tags": []
          },
          "execution_count": 47
        }
      ]
    },
    {
      "cell_type": "code",
      "metadata": {
        "id": "CVKH-aEu9P1y"
      },
      "source": [
        "arr5= np.random.randint(10,50,(5,3))"
      ],
      "execution_count": 50,
      "outputs": []
    },
    {
      "cell_type": "code",
      "metadata": {
        "colab": {
          "base_uri": "https://localhost:8080/"
        },
        "id": "ytxg1k5y9YK0",
        "outputId": "6fd46f17-af6f-40cb-bd02-d4771361dcc3"
      },
      "source": [
        "arr5"
      ],
      "execution_count": 51,
      "outputs": [
        {
          "output_type": "execute_result",
          "data": {
            "text/plain": [
              "array([[42, 43, 46],\n",
              "       [32, 42, 15],\n",
              "       [35, 28, 43],\n",
              "       [21, 47, 44],\n",
              "       [30, 46, 16]])"
            ]
          },
          "metadata": {
            "tags": []
          },
          "execution_count": 51
        }
      ]
    },
    {
      "cell_type": "code",
      "metadata": {
        "colab": {
          "base_uri": "https://localhost:8080/"
        },
        "id": "vs-ndKik9gZs",
        "outputId": "2781f6af-3762-4f85-bd36-8c8a7e828db7"
      },
      "source": [
        "arr5[1,1]  #arr_name[row_number, column_number]"
      ],
      "execution_count": 53,
      "outputs": [
        {
          "output_type": "execute_result",
          "data": {
            "text/plain": [
              "42"
            ]
          },
          "metadata": {
            "tags": []
          },
          "execution_count": 53
        }
      ]
    },
    {
      "cell_type": "code",
      "metadata": {
        "colab": {
          "base_uri": "https://localhost:8080/"
        },
        "id": "kG95UvOl93SB",
        "outputId": "e7913ccf-941a-410a-e470-c8afebeec8e8"
      },
      "source": [
        "arr5[3,1]"
      ],
      "execution_count": 55,
      "outputs": [
        {
          "output_type": "execute_result",
          "data": {
            "text/plain": [
              "47"
            ]
          },
          "metadata": {
            "tags": []
          },
          "execution_count": 55
        }
      ]
    },
    {
      "cell_type": "code",
      "metadata": {
        "id": "rf2RNo27-EgG"
      },
      "source": [
        "# Slicing"
      ],
      "execution_count": 56,
      "outputs": []
    },
    {
      "cell_type": "code",
      "metadata": {
        "colab": {
          "base_uri": "https://localhost:8080/"
        },
        "id": "UlanH4e7-MCG",
        "outputId": "7cd48a58-3fa5-48e8-b16e-4578554ef233"
      },
      "source": [
        "arr5[2]"
      ],
      "execution_count": 57,
      "outputs": [
        {
          "output_type": "execute_result",
          "data": {
            "text/plain": [
              "array([35, 28, 43])"
            ]
          },
          "metadata": {
            "tags": []
          },
          "execution_count": 57
        }
      ]
    },
    {
      "cell_type": "code",
      "metadata": {
        "id": "CMAKsOpl-RWp"
      },
      "source": [
        "#To slice a particular part\n",
        "\n",
        "# arr_name[row_start_number: row_end_number, column_start_number: column_end_number]"
      ],
      "execution_count": 60,
      "outputs": []
    },
    {
      "cell_type": "code",
      "metadata": {
        "colab": {
          "base_uri": "https://localhost:8080/"
        },
        "id": "CWUh9Quf-XSs",
        "outputId": "612eb27d-8aec-45fd-b80d-6e478a0d3462"
      },
      "source": [
        "arr5[1:3, 0:2]"
      ],
      "execution_count": 65,
      "outputs": [
        {
          "output_type": "execute_result",
          "data": {
            "text/plain": [
              "array([[32, 42],\n",
              "       [35, 28]])"
            ]
          },
          "metadata": {
            "tags": []
          },
          "execution_count": 65
        }
      ]
    },
    {
      "cell_type": "code",
      "metadata": {
        "id": "udfNTjZ2-88a"
      },
      "source": [
        "arr6 = np.random.randint(2,20,10)"
      ],
      "execution_count": 67,
      "outputs": []
    },
    {
      "cell_type": "code",
      "metadata": {
        "colab": {
          "base_uri": "https://localhost:8080/"
        },
        "id": "29zDmOGQASYP",
        "outputId": "c7a2b212-8ebe-49f2-e48e-b2867d1e5227"
      },
      "source": [
        "arr6"
      ],
      "execution_count": 68,
      "outputs": [
        {
          "output_type": "execute_result",
          "data": {
            "text/plain": [
              "array([12, 12, 19, 14,  7, 14, 15, 13,  5,  9])"
            ]
          },
          "metadata": {
            "tags": []
          },
          "execution_count": 68
        }
      ]
    },
    {
      "cell_type": "code",
      "metadata": {
        "colab": {
          "base_uri": "https://localhost:8080/"
        },
        "id": "4CNEn4RpAkII",
        "outputId": "a18c7410-bc4f-44e9-80ae-2c71fcb06547"
      },
      "source": [
        "np.where(arr6 < 10) #Returns the position of elements"
      ],
      "execution_count": 69,
      "outputs": [
        {
          "output_type": "execute_result",
          "data": {
            "text/plain": [
              "(array([4, 8, 9]),)"
            ]
          },
          "metadata": {
            "tags": []
          },
          "execution_count": 69
        }
      ]
    },
    {
      "cell_type": "code",
      "metadata": {
        "colab": {
          "base_uri": "https://localhost:8080/"
        },
        "id": "NAeCy4_qAqo0",
        "outputId": "342e1b47-3cc1-4fa7-9462-fb5dfc2b17c8"
      },
      "source": [
        "np.where(arr6==19)"
      ],
      "execution_count": 70,
      "outputs": [
        {
          "output_type": "execute_result",
          "data": {
            "text/plain": [
              "(array([2]),)"
            ]
          },
          "metadata": {
            "tags": []
          },
          "execution_count": 70
        }
      ]
    },
    {
      "cell_type": "code",
      "metadata": {
        "id": "805wRabIA-XM"
      },
      "source": [
        "# Problem Statement --> If number is less than 10, multiply it with 2 else leave it as it is"
      ],
      "execution_count": 71,
      "outputs": []
    },
    {
      "cell_type": "code",
      "metadata": {
        "colab": {
          "base_uri": "https://localhost:8080/"
        },
        "id": "A6xkcYGGBS1v",
        "outputId": "5558fb44-cd36-4e98-dc96-8843426726aa"
      },
      "source": [
        "np.where(arr6<10, arr6*2, arr6) # Condition, IF TRUE WHAT TO DO, IF FALSE WHAT TO DO"
      ],
      "execution_count": 72,
      "outputs": [
        {
          "output_type": "execute_result",
          "data": {
            "text/plain": [
              "array([12, 12, 19, 14, 14, 14, 15, 13, 10, 18])"
            ]
          },
          "metadata": {
            "tags": []
          },
          "execution_count": 72
        }
      ]
    },
    {
      "cell_type": "code",
      "metadata": {
        "id": "AYbeUvFWBYAK"
      },
      "source": [
        ""
      ],
      "execution_count": null,
      "outputs": []
    }
  ]
}